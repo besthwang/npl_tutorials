{
 "cells": [
  {
   "cell_type": "markdown",
   "id": "fe6d1316",
   "metadata": {},
   "source": [
    "https://jott.live/markdown/as_strided"
   ]
  },
  {
   "cell_type": "code",
   "execution_count": 1,
   "id": "298686d8",
   "metadata": {},
   "outputs": [],
   "source": [
    "import numpy as np"
   ]
  },
  {
   "cell_type": "code",
   "execution_count": 2,
   "id": "893263e0",
   "metadata": {},
   "outputs": [],
   "source": [
    "def as_strided_custom(x, size, stride, storage_offset=0):\n",
    "    \"\"\"\n",
    "    간단한 as_strided 흉내내기 (numpy 버전)\n",
    "\n",
    "    x: 원본 1차원 numpy 배열 (메모리)\n",
    "    size: 결과 텐서 shape (tuple)\n",
    "    stride: 각 차원 이동 시 메모리 점프 크기 (tuple)\n",
    "    storage_offset: 메모리 시작 위치\n",
    "    \"\"\"\n",
    "    # 결과 shape에 맞는 인덱스 좌표 생성\n",
    "    idx = np.indices(size)  # 각 좌표의 인덱스 그리드\n",
    "    offset = storage_offset\n",
    "\n",
    "    # 좌표 * stride 를 더해 메모리 인덱스 계산\n",
    "    mem_index = offset + sum(idx[d] * stride[d] for d in range(len(size)))\n",
    "\n",
    "    # 원본 메모리에서 값 추출\n",
    "    return x[mem_index]"
   ]
  },
  {
   "cell_type": "code",
   "execution_count": 3,
   "id": "66bd3d07",
   "metadata": {},
   "outputs": [
    {
     "name": "stdout",
     "output_type": "stream",
     "text": [
      "원본 행렬:\n",
      " [[1 2 3]\n",
      " [4 5 6]\n",
      " [7 8 9]]\n"
     ]
    }
   ],
   "source": [
    "# 예제: 3x3 행렬\n",
    "base = np.arange(1, 10)   # [1..9]\n",
    "x = base.reshape(3,3)\n",
    "print(\"원본 행렬:\\n\", x)"
   ]
  },
  {
   "cell_type": "code",
   "execution_count": 4,
   "id": "b63482dc",
   "metadata": {},
   "outputs": [
    {
     "name": "stdout",
     "output_type": "stream",
     "text": [
      "\n",
      "stride=(3,1), size=(2,2):\n",
      " [[1 2]\n",
      " [4 5]]\n"
     ]
    }
   ],
   "source": [
    "# 좌상단 2x2 패치 추출 (stride=(3,1))\n",
    "y = as_strided_custom(base, size=(2,2), stride=(3,1))\n",
    "print(\"\\nstride=(3,1), size=(2,2):\\n\", y)"
   ]
  }
 ],
 "metadata": {
  "kernelspec": {
   "display_name": "Python 3",
   "language": "python",
   "name": "python3"
  },
  "language_info": {
   "codemirror_mode": {
    "name": "ipython",
    "version": 3
   },
   "file_extension": ".py",
   "mimetype": "text/x-python",
   "name": "python",
   "nbconvert_exporter": "python",
   "pygments_lexer": "ipython3",
   "version": "3.10.12"
  }
 },
 "nbformat": 4,
 "nbformat_minor": 5
}
