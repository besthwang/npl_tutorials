{
 "cells": [
  {
   "cell_type": "markdown",
   "id": "20fb66df-f335-46d4-abb9-32959946eb98",
   "metadata": {},
   "source": [
    "# [Understanding Image Patch Embeddings](https://medium.com/correll-lab/understanding-image-patch-embeddings-3d66c14fe7ed)"
   ]
  },
  {
   "cell_type": "markdown",
   "id": "8d39f638",
   "metadata": {},
   "source": [
    "- https://npclinic3.tistory.com/6\n"
   ]
  },
  {
   "cell_type": "markdown",
   "id": "bd15c21e-bd8a-4a78-a0c2-e5f95237f629",
   "metadata": {},
   "source": [
    "트랜스포머 아키텍처가 강력한 이유는 텍스트, 이미지, 그 외의 어떤 데이터 및 그 조합을<br> \n",
    "구분하지 않기 때문입니다. “어텐션(Attention)” 모델은 시퀀스 내 모든 토큰 간의 자기 <br>\n",
    "유사도(self-similarity)를 계산하여, 어떤 형태의 데이터든 요약하고 생성할 수 있게 합니다.<br> \n",
    "비전 트랜스포머(Vision Transformer)는 이미지를 정사각형 패치로 분할한 뒤, 이를 평탄화(flatten)하여 <br>\n",
    "하나의 벡터 임베딩으로 만듭니다. 이렇게 되면 텍스트 임베딩(또는 다른 어떤 임베딩)과 똑같은 <br>\n",
    "방식으로 처리할 수 있으며, 심지어 다른 데이터 타입과도 연결(concatenate)할 수 있습니다. <br>\n",
    "종종 패치를 생성하는 단계는 첫 번째 학습 가능한 비선형 변환(learnable non-linear transformation)과 <br>\n",
    "결합되는데, 이를 위해 2D 합성곱(convolution)을 사용하며, 이 부분은 이해하기가 쉽지 않습니다. <br>\n",
    "본 글은 바로 이 단계에 대해 깊이 있게 탐구합니다. 또한, 여러분이 Colab 워크시트에 코드 조각을 <br>\n",
    "그대로 복사해 붙여 넣어 따라 할 수 있도록 작성되었습니다. <br>"
   ]
  },
  {
   "cell_type": "code",
   "execution_count": 1,
   "id": "fc1ef48d-4b38-4db3-b54f-f01bd8057d7f",
   "metadata": {},
   "outputs": [],
   "source": [
    "from torchvision.datasets.mnist import MNIST\n",
    "from torch.utils.data import DataLoader\n",
    "import torchvision.transforms as T\n",
    "import torch\n",
    "\n",
    "torch.manual_seed(42)\n",
    "\n",
    "img_size = (32,32) # We will resize MNIST images to this size\n",
    "batch_size = 4\n",
    "\n",
    "transform = T.Compose([\n",
    "  T.ToTensor(),\n",
    "  T.Resize(img_size)\n",
    "])\n",
    "\n",
    "train_set = MNIST(\n",
    "  root=\"./../datasets\", train=True, download=True, transform=transform\n",
    "  )\n",
    "\n",
    "train_loader = DataLoader(train_set, shuffle=True, batch_size=batch_size)\n",
    "\n",
    "batch = next(iter(train_loader)) # loads the first batch"
   ]
  },
  {
   "cell_type": "code",
   "execution_count": 2,
   "id": "e3e2725d-cf11-4195-9448-90b57494d7cb",
   "metadata": {},
   "outputs": [
    {
     "data": {
      "image/png": "[encoded data removed]",
      "text/plain": [
       "<Figure size 1200x400 with 4 Axes>"
      ]
     },
     "metadata": {},
     "output_type": "display_data"
    }
   ],
   "source": [
    "import matplotlib.pyplot as plt\n",
    "\n",
    "# batch[0] contains the images and batch[1] the labels\n",
    "images = batch[0]\n",
    "labels = batch[1]\n",
    "\n",
    "# Create a figure and axes for the subplots\n",
    "fig, axes = plt.subplots(1, batch_size, figsize=(12, 4))\n",
    "\n",
    "# Iterate through the batch of images and labels\n",
    "for i in range(batch_size):\n",
    "  # Convert the image tensor to a NumPy array and remove the channel dimension if it's a grayscale image\n",
    "  image_np = images[i].numpy().squeeze()\n",
    "\n",
    "  # Display the image in the corresponding subplot\n",
    "  axes[i].imshow(image_np, cmap='gray')  # Use 'gray' cmap for grayscale images\n",
    "  axes[i].set_title(f\"Class: {labels[i].item()}\") # Assuming labels are tensors, use .item() to get the value\n",
    "  axes[i].axis('off')\n",
    "\n",
    "# Adjust the spacing between subplots\n",
    "plt.tight_layout()\n",
    "\n",
    "# Display the plot\n",
    "plt.show()"
   ]
  },
  {
   "cell_type": "markdown",
   "id": "a151ef5e-d1d8-48f2-b541-87e96c884c33",
   "metadata": {},
   "source": [
    "## Creating Image Patches"
   ]
  },
  {
   "cell_type": "markdown",
   "id": "386541cc",
   "metadata": {},
   "source": [
    "Here is the code that breaks the image apart using Torch’ unfold operator:"
   ]
  },
  {
   "cell_type": "code",
   "execution_count": 3,
   "id": "13b56ab9",
   "metadata": {},
   "outputs": [],
   "source": [
    "import torch.nn as nn\n",
    "# Image and patch sizes\n",
    "img_size = (32, 32)\n",
    "patch_size = (8, 8)\n",
    "n_channels = 1\n",
    "\n",
    "image = batch[0][1].unsqueeze(0)\n",
    "\n",
    "# Patch Class\n",
    "# class Patch(nn.Module):\n",
    "#     def __init__(self, img_size, patch_size, n_channels):\n",
    "#         super().__init__()\n",
    "#         self.patch_size = patch_size\n",
    "#         self.n_channels = n_channels\n",
    "\n",
    "#     def forward(self, x): # B x C x H X W\n",
    "#         x = x.unfold(\n",
    "#             2, self.patch_size[0], self.patch_size[0]\n",
    "#             ).unfold(\n",
    "#                 3,self.patch_size[1],self.patch_size[1]\n",
    "#                 )  # (B, C, P_row, P_col, P_height, P_width)\n",
    "#         x = x.flatten(2)  #(B, C, P_row*P_col*P_height*P_width)\n",
    "#         x = x.transpose(1, 2)  # (B,  P_row*P_col*P_height*P_width, C)\n",
    "#         return x\n",
    "\n",
    "# Instantiate model\n",
    "#patch = Patch(img_size, patch_size, n_channels)\n",
    "\n",
    "# Extract patches\n",
    "# with torch.no_grad():\n",
    "#     patches = patch(image) "
   ]
  },
  {
   "cell_type": "code",
   "execution_count": 4,
   "id": "155784ce",
   "metadata": {},
   "outputs": [
    {
     "data": {
      "text/plain": [
       "torch.Size([1, 1, 32, 32])"
      ]
     },
     "execution_count": 4,
     "metadata": {},
     "output_type": "execute_result"
    }
   ],
   "source": [
    "image.shape"
   ]
  },
  {
   "cell_type": "code",
   "execution_count": 5,
   "id": "53d39bc8",
   "metadata": {},
   "outputs": [],
   "source": [
    "x = image.clone()"
   ]
  },
  {
   "cell_type": "code",
   "execution_count": 6,
   "id": "86d3ee0d",
   "metadata": {},
   "outputs": [
    {
     "data": {
      "text/plain": [
       "torch.Size([1, 1, 32, 32])"
      ]
     },
     "execution_count": 6,
     "metadata": {},
     "output_type": "execute_result"
    }
   ],
   "source": [
    "x.shape"
   ]
  },
  {
   "cell_type": "code",
   "execution_count": 12,
   "id": "9ccb315f",
   "metadata": {},
   "outputs": [],
   "source": [
    "x1 = x.unfold(2, patch_size[0],patch_size[0])\n",
    "x2 = x1.unfold(3, patch_size[1],patch_size[1])\n",
    "x3 = x2.flatten(2)\n",
    "x4 = x3.transpose(1,2)\n",
    "patches = x4"
   ]
  },
  {
   "cell_type": "code",
   "execution_count": 13,
   "id": "796d0f10",
   "metadata": {},
   "outputs": [
    {
     "data": {
      "image/png": "[encoded data removed]",
      "text/plain": [
       "<Figure size 600x600 with 16 Axes>"
      ]
     },
     "metadata": {},
     "output_type": "display_data"
    }
   ],
   "source": [
    "patches = patches.squeeze(0)  # Remove batch dimension -> (P, d_model)\n",
    "patches = patches.view(-1, patch_size[0], patch_size[1]) # reshape back into 8x8\n",
    "\n",
    "npatches = img_size[0] // patch_size[0]\n",
    "# Plot patches\n",
    "fig, axs = plt.subplots(npatches, npatches, figsize=(6, 6))  # 4x4 grid for (32x32) -> 16 patches\n",
    "\n",
    "for i in range(npatches):\n",
    "    for j in range(npatches):\n",
    "        patch_idx = i * npatches + j  # Patch index\n",
    "        axs[i, j].imshow(patches[patch_idx], cmap=\"gray\", vmin=0, vmax=1)\n",
    "        axs[i, j].axis(\"off\")\n",
    "\n",
    "plt.show()"
   ]
  },
  {
   "cell_type": "markdown",
   "id": "b73301a1",
   "metadata": {},
   "source": [
    "## Creating Patch Embeddings\n",
    "이 접근 방식은 임베딩의 차원을 원본 이미지 차원의 배수로 제한한다는 점을 눈치챘을 수도 있습니다.<br>\n",
    "이 제한은 unfold 연산 뒤에 선형 투영(linear projection) 을 적용함으로써 바꿀 수 있으며, <br>\n",
    "이렇게 하면 학습 가능한 임베딩을 만들 수 있습니다. <br>\n",
    "\n",
    "![](../images/Patches.webp) \n",
    "\n",
    "Patches after a linear transformation with the identity matrix(left),<br>\n",
    "after a linear transformation with random weights(middle), <br>\n",
    "and a linear transformation with random weights and bias terms.  <br>\n",
    "\n",
    "또한 이러한 임베딩은 시각화를 위해 다시 2D 텐서로 변환되었으며, 이를 통해 선형 투영이 패치 단위로<br>\n",
    "어떻게 작동하는지 보여줍니다. `nn.Linear` 클래스를 `단위 행렬(identity matrix)`로 초기화하면 <br>\n",
    "원본 데이터가 그대로 보존됨을 확인할 수 있습니다. 무작위 가중치(random weights)를 사용하면, 값이 0인 <br>\n",
    "이미지 부분은 그대로 유지됨을 볼 수 있습니다. 마지막으로 bias 항을 추가하면 변환이 모든 패치에 동일하게 <br>\n",
    "영향을 미친다는 사실을 알 수 있는데, 비어 있는 패치들이 모두 똑같은 bias 값을 갖는 것으로 나타납니다. <br>\n",
    "\n",
    "이제 새롭게 정의된 클래스는 `PatchEmbedding`이라 불리며, 이를 인스턴스화하는 코드 한 줄도 함께 제시됩니다.<br>\n",
    "여기서 새 변수` d_model`을 도입하는데, 이는 출력 임베딩의 원하는 차원을 의미합니다. 이제 이 값은 어떤 숫자든 <br> \n",
    "될 수 있습니다. 위의 그림에서는 `d_model=64`를 선택했지만, 더 이상 제한은 없습니다.<br>"
   ]
  },
  {
   "cell_type": "code",
   "execution_count": null,
   "id": "27ec7d29",
   "metadata": {},
   "outputs": [],
   "source": [
    "class PatchEmbedding(nn.Module):\n",
    "    def __init__(self, img_size, patch_size, n_channels, d_model):\n",
    "        super().__init__()\n",
    "        self.patch_size = patch_size\n",
    "        self.n_channels = n_channels\n",
    "        self.d_model = d_model\n",
    "\n",
    "        # Linear projection layer to map each patch to d_model\n",
    "        self.linear_proj = nn.Linear(patch_size[0] * patch_size[1] * n_channels, d_model,bias=False)\n",
    "        # The next two lines are unnecessary, but help to visualize that the linear \n",
    "        # projection operates along the correct dimensions\n",
    "        #with torch.no_grad():\n",
    "        #  self.linear_proj.weight.copy_(torch.eye(self.linear_proj.weight.shape[0]))\n",
    "       \n",
    "    def forward(self, x): # B x C x H X W\n",
    "\n",
    "        x = x.unfold(\n",
    "            2, self.patch_size[0], self.patch_size[0]\n",
    "            ).unfold(\n",
    "                3,self.patch_size[1],self.patch_size[1]\n",
    "                )  # (B, C, P_row, P_col, P_height, P_width)\n",
    "        \n",
    "        B, C, P_row, P_col, P_height, P_width = x.shape\n",
    "        x = x.reshape(B,C,P_row*P_col,P_height*P_width)\n",
    "        x = self.linear_proj(x)  # (B*N, d_model)\n",
    "  \n",
    "        \n",
    "        x = x.flatten(2)  #(B, C, P_row*P_col*P_height*P_width)\n",
    "        x = x.transpose(1, 2)  # (B,  P_row*P_col*P_height*P_width, C)\n",
    "\n",
    "        x = x.view(B, -1, self.d_model)\n",
    "      \n",
    "        return x\n",
    "\n",
    "d_model = 64\n",
    "# Instantiate model\n",
    "patch = PatchEmbedding(img_size, patch_size, n_channels, d_model)"
   ]
  },
  {
   "cell_type": "code",
   "execution_count": 23,
   "id": "cb1e7d44",
   "metadata": {},
   "outputs": [],
   "source": [
    "linear_proj = nn.Linear(patch_size[0] * patch_size[1] * n_channels, d_model,bias=False)"
   ]
  },
  {
   "cell_type": "code",
   "execution_count": 21,
   "id": "f800a70a",
   "metadata": {},
   "outputs": [
    {
     "name": "stdout",
     "output_type": "stream",
     "text": [
      "B: 1, C: 1, P_row: 4, P_col: 4, P_height: 8,         P_width: 8\n"
     ]
    }
   ],
   "source": [
    "x = image.clone()\n",
    "x1 = x.unfold(2, patch_size[0],patch_size[0])\n",
    "x2 = x1.unfold(3, patch_size[1],patch_size[1])\n",
    "B, C, P_row, P_col, P_height, P_width = x2.shape\n",
    "print(f\"B: {B}, C: {C}, P_row: {P_row}, P_col: {P_col}, P_height: {P_height}, \\\n",
    "        P_width: {P_width}\")"
   ]
  },
  {
   "cell_type": "code",
   "execution_count": 24,
   "id": "528ec768",
   "metadata": {},
   "outputs": [
    {
     "name": "stdout",
     "output_type": "stream",
     "text": [
      "x3 shape: torch.Size([1, 1, 16, 64])\n",
      "x4 shape: torch.Size([1, 1, 16, 64])\n"
     ]
    }
   ],
   "source": [
    "x3 = x2.reshape(B,C,P_row*P_col,P_height*P_width)\n",
    "print(f\"x3 shape: {x3.shape}\")\n",
    "x4 = linear_proj(x3)  # (B*N, d_model)\n",
    "print(f\"x4 shape: {x4.shape}\")"
   ]
  },
  {
   "cell_type": "code",
   "execution_count": 26,
   "id": "e1486195",
   "metadata": {},
   "outputs": [
    {
     "name": "stdout",
     "output_type": "stream",
     "text": [
      "x5 shape: torch.Size([1, 1, 1024])\n",
      "x6 shape: torch.Size([1, 1024, 1])\n"
     ]
    }
   ],
   "source": [
    "x5 = x4.flatten(2)\n",
    "print(f\"x5 shape: {x5.shape}\")\n",
    "x6 = x5.transpose(1,2)\n",
    "print(f\"x6 shape: {x6.shape}\")"
   ]
  },
  {
   "cell_type": "code",
   "execution_count": 27,
   "id": "b13cf1d2",
   "metadata": {},
   "outputs": [
    {
     "name": "stdout",
     "output_type": "stream",
     "text": [
      "x7 shape: torch.Size([1, 16, 64])\n"
     ]
    }
   ],
   "source": [
    "x7 = x6.view(B, -1, d_model)\n",
    "print(f\"x7 shape: {x7.shape}\")"
   ]
  },
  {
   "cell_type": "markdown",
   "id": "9936571f",
   "metadata": {},
   "source": [
    "## Creating Patch Embeddings with the 2D convolution  \n",
    "unfold 연산자는 꽤 번거롭고, 심지어 짜증스럽기까지 하다는 것을 눈치챘을 수도 있습니다. 이를 더 간단하게 처리할 방법이 있는데, 바로 원하는 패치 크기에 해당하는 커널 크기와 스트라이드 길이를 사용하여 **2D 합성곱(convolution)**을 수행하는 것입니다. 이렇게 하면 합성곱은 픽셀 단위가 아니라 패치 단위로 동작하게 되며, unfold와 nn.Linear를 조합했을 때와 동일한 결과를 얻을 수 있습니다. <br>\n",
    "\n",
    "![](../images/conv2d_patches.webp)  \n",
    "\n",
    "Using 2D Convoltuion to combine creating patches and linear transformation in a single step. 16x16 patches embedded into 4, 64 and 2500 dimensions(to row), and 8x8 patches embedded into 4, 64 and 2500 dimensions(bottom row).\n",
    "\n",
    "This is the revised PatchEmbedding class:"
   ]
  },
  {
   "cell_type": "code",
   "execution_count": 28,
   "id": "5ed72d69",
   "metadata": {},
   "outputs": [],
   "source": [
    "class PatchEmbedding(nn.Module):\n",
    "    def __init__(self, img_size, patch_size, n_channels, d_model):\n",
    "        super().__init__()\n",
    "        self.patch_size = patch_size\n",
    "        self.n_channels = n_channels\n",
    "        self.d_model = d_model  # Flattened patch size\n",
    "\n",
    "        # Conv2d to extract patches\n",
    "        self.linear_project = nn.Conv2d(\n",
    "            in_channels=n_channels,\n",
    "            out_channels=self.d_model,  # Each patch is flattened to d_model\n",
    "            kernel_size=patch_size,\n",
    "            stride=patch_size,\n",
    "            bias=False\n",
    "        )\n",
    "\n",
    "    def forward(self, x):\n",
    "        x = self.linear_project(x)  # (B, d_model, P_row, P_col)\n",
    "        x = x.flatten(2)  # (B, d_model, P_row * P_col) -> (B, d_model, P)\n",
    "        x = x.transpose(1, 2)  # (B, P, d_model)\n",
    "        return x"
   ]
  },
  {
   "cell_type": "markdown",
   "id": "cf2eb457",
   "metadata": {},
   "source": [
    "위에서 만든 어떤 형태의 패치 임베딩이든 비전 트랜스포머(Vision Transformer)에 입력으로 사용할 수 있습니다. 이 과정을 **2D 합성곱(Conv2d)** 으로 구현하면 가장 범용적이고 간결한 표현 방식이 됩니다. 합성곱은 각 차원마다 전용 커널을 사용하지만, 지금까지는 모든 패치에 동일한 커널을 사용해왔다는 점을 주목하세요.\n",
    "\n",
    "이를 그림으로 보여주고, 합성곱이 엉뚱한 동작을 하지 않는다는 것을 확인하기 위해, 커널 가중치를 초기화해서 각 커널이 패치당 단일 픽셀만 추출하도록 설정할 수 있습니다. 아래의 코드는 패치 크기가 (8,8)이고, 결과 임베딩 차원 `d_model=64`인 경우에 동작합니다. 이 코드를 PatchEmbedding 클래스의 `__init__` 메서드 마지막 부분에 추가하세요."
   ]
  },
  {
   "cell_type": "code",
   "execution_count": null,
   "id": "3c7086ef",
   "metadata": {},
   "outputs": [],
   "source": [
    "class PatchEmbedding(nn.Module):\n",
    "    def __init__(self, img_size, patch_size, n_channels, d_model):\n",
    "        super().__init__()\n",
    "        self.patch_size = patch_size\n",
    "        self.n_channels = n_channels\n",
    "        self.d_model = d_model  # Flattened patch size\n",
    "\n",
    "        # Conv2d to extract patches\n",
    "        self.linear_project = nn.Conv2d(\n",
    "            in_channels=n_channels,\n",
    "            out_channels=self.d_model,  # Each patch is flattened to d_model\n",
    "            kernel_size=patch_size,\n",
    "            stride=patch_size,\n",
    "            bias=False\n",
    "        )\n",
    "\n",
    "        \"\"\"Initialize Conv2d to extract patches without transformation.\"\"\"\n",
    "        with torch.no_grad():\n",
    "            identity_kernel = torch.zeros(\n",
    "                self.d_model, self.n_channels, *self.patch_size\n",
    "            )  # Shape: (64, 1, 8, 8)\n",
    "\n",
    "            for i in range(self.d_model):  \n",
    "                row = i // self.patch_size[1]  # Row index in the patch\n",
    "                col = i % self.patch_size[1]   # Column index in the patch\n",
    "                identity_kernel[i, 0, row, col] = 1  # Place a 1 at the correct pixel position\n",
    "\n",
    "            self.linear_project.weight.copy_(identity_kernel)\n",
    "\n",
    "    def forward(self, x):\n",
    "        x = self.linear_project(x)  # (B, d_model, P_row, P_col)\n",
    "        x = x.flatten(2)  # (B, d_model, P_row * P_col) -> (B, d_model, P)\n",
    "        x = x.transpose(1, 2)  # (B, P, d_model)\n",
    "        return x"
   ]
  },
  {
   "cell_type": "markdown",
   "id": "86e1d359",
   "metadata": {},
   "source": [
    "As you can see the identity_kernel tensor maintains d_model entries, one for each dimension, and only one pixel of each patch is set to one, thereby extracting just that pixel. A simpler way to do this is to simple cast a d_model x d_model identity matrix into d_model matrices of patch_size:\n",
    "\n",
    "``` python\n",
    "        identity_matrix = torch.eye(self.d_model)\n",
    "        identity_kernel = identity_matrix.view(d_model, 1, *patch_size)  # Shape: (64, 1, 8, 8)\n",
    "\n",
    "        with torch.no_grad():\n",
    "             self.linear_project.weight.copy_(identity_kernel)\n",
    "```"
   ]
  },
  {
   "cell_type": "code",
   "execution_count": null,
   "id": "dba61d31",
   "metadata": {},
   "outputs": [],
   "source": []
  }
 ],
 "metadata": {
  "kernelspec": {
   "display_name": "Python 3",
   "language": "python",
   "name": "python3"
  },
  "language_info": {
   "codemirror_mode": {
    "name": "ipython",
    "version": 3
   },
   "file_extension": ".py",
   "mimetype": "text/x-python",
   "name": "python",
   "nbconvert_exporter": "python",
   "pygments_lexer": "ipython3",
   "version": "3.10.12"
  }
 },
 "nbformat": 4,
 "nbformat_minor": 5
}
