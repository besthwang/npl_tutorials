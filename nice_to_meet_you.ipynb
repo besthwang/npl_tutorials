{
 "cells": [
  {
   "cell_type": "markdown",
   "id": "2863fe1b-a78f-46bc-b373-86594fccb7d5",
   "metadata": {},
   "source": [
    "## 1. 라이브러리 및 데이터 준비"
   ]
  },
  {
   "cell_type": "code",
   "execution_count": 1,
   "id": "fc678a8c-543c-4313-b858-6a75536bf4a3",
   "metadata": {},
   "outputs": [],
   "source": [
    "import torch\n",
    "import torch.nn as nn\n",
    "import numpy as np"
   ]
  },
  {
   "cell_type": "markdown",
   "id": "2ab22929-038f-4b42-9590-65adacba3a24",
   "metadata": {},
   "source": [
    "- 아래는 nn.lstm의 output, hidden state에 대해 설명함.  \n",
    "  (https://pytorch.org/tutorials/beginner/nlp/sequence_models_tutorial.html)  \n",
    "- seq2seq 구현 참고 자료:  \n",
    "  (https://codlingual.tistory.com/91)"
   ]
  },
  {
   "cell_type": "code",
   "execution_count": 28,
   "id": "81edef29-0321-4762-8c47-fffb842aaed9",
   "metadata": {},
   "outputs": [],
   "source": [
    "# 학습 데이터\n",
    "in_text = \"nice to meet you\"\n",
    "out_text = \"ravi de vous rencontrer\"\n",
    "#de_input = \"<sos> ravi de vous rencontrer\"\n",
    "#out_target = \"ravi de vous rencontrer <eos>\"\n",
    "# 문자 집합 생성\n",
    "chars = set(text.split())\n",
    "char_to_index = {char: i for i, char in enumerate(chars)}\n",
    "index_to_char = {i: char for i, char in enumerate(chars)}\n"
   ]
  },
  {
   "cell_type": "code",
   "execution_count": 35,
   "id": "53dfaaea-d44b-41a9-9b3a-ee727b8f7eca",
   "metadata": {},
   "outputs": [],
   "source": [
    "outs = set(out_text.split()) \n",
    "out_to_index = {char: i+1 for i, char in enumerate(outs)}\n",
    "out_to_index['<sos>'] = 0\n",
    "out_to_index['<eos>'] = 5\n",
    "\n",
    "index_to_out = {i: key for key, i in out_to_index.items()}\n"
   ]
  },
  {
   "cell_type": "code",
   "execution_count": 33,
   "id": "adb71587-9e1c-4eca-b2c3-292beccc2a41",
   "metadata": {},
   "outputs": [
    {
     "data": {
      "text/plain": [
       "{'ravi': 1, 'rencontrer': 2, 'vous': 3, 'de': 4, '<sos>': 0, '<eos>': 5}"
      ]
     },
     "execution_count": 33,
     "metadata": {},
     "output_type": "execute_result"
    }
   ],
   "source": [
    "out_to_index"
   ]
  },
  {
   "cell_type": "code",
   "execution_count": 36,
   "id": "6cde8bd0-f634-40c1-bed5-d26841664795",
   "metadata": {},
   "outputs": [
    {
     "data": {
      "text/plain": [
       "{1: 'ravi', 2: 'rencontrer', 3: 'vous', 4: 'de', 0: '<sos>', 5: '<eos>'}"
      ]
     },
     "execution_count": 36,
     "metadata": {},
     "output_type": "execute_result"
    }
   ],
   "source": [
    "index_to_out"
   ]
  },
  {
   "cell_type": "code",
   "execution_count": 19,
   "id": "6265a153-c900-4263-9bc4-f97eedb45ce9",
   "metadata": {},
   "outputs": [],
   "source": [
    "# 하이퍼파라미터\n",
    "sequence_length = 4  # 입력 길이\n",
    "vocab_size = len(chars)  # 문자 집합 크기\n",
    "embedding_dim = 10  # 임베딩 차원\n",
    "hidden_size = 128  # LSTM 은닉 상태 크기\n",
    "num_layers = 1  # LSTM 레이어 개수"
   ]
  },
  {
   "cell_type": "code",
   "execution_count": 10,
   "id": "c623230e-0f7c-44f6-b455-e5857e4398ef",
   "metadata": {},
   "outputs": [
    {
     "name": "stdout",
     "output_type": "stream",
     "text": [
      "0 nice\n",
      "1 to\n",
      "2 you\n",
      "3 meet\n"
     ]
    }
   ],
   "source": [
    "for key, value in index_to_char.items():\n",
    "    print(key,value)"
   ]
  },
  {
   "cell_type": "markdown",
   "id": "b032c118-4f80-4329-a874-114c274a90c8",
   "metadata": {},
   "source": [
    "## 2. 데이터 전처리 (One-Hot Encoding)"
   ]
  },
  {
   "cell_type": "code",
   "execution_count": 13,
   "id": "2b75c7f2-000f-4076-9b02-3d66478ec5a3",
   "metadata": {},
   "outputs": [],
   "source": [
    "# One-Hot Encoding 함수\n",
    "def one_hot_encode(indices, vocab_size):\n",
    "    one_hot = np.zeros((len(indices), vocab_size), dtype=np.float32)\n",
    "    for i, idx in enumerate(indices):\n",
    "        one_hot[i, idx] = 1.0\n",
    "    return one_hot"
   ]
  },
  {
   "cell_type": "code",
   "execution_count": 56,
   "id": "15ea5bf9-e41a-4824-b920-179974d54c68",
   "metadata": {},
   "outputs": [],
   "source": [
    "# 입력과 출력 데이터 생성\n",
    "input_sequences = []\n",
    "\n",
    "for i, _ in index_to_char.items():\n",
    "    input_sequences.append(i)"
   ]
  },
  {
   "cell_type": "code",
   "execution_count": 58,
   "id": "6cc23a5c-ac5e-4d17-9bdb-52d12f6ed945",
   "metadata": {},
   "outputs": [
    {
     "data": {
      "text/plain": [
       "[0, 1, 2, 3]"
      ]
     },
     "execution_count": 58,
     "metadata": {},
     "output_type": "execute_result"
    }
   ],
   "source": [
    "input_sequences"
   ]
  },
  {
   "cell_type": "code",
   "execution_count": 45,
   "id": "e6f16ae9-2c9d-4995-addf-71cf99c7678b",
   "metadata": {},
   "outputs": [],
   "source": [
    "out1 = ('<sos> ' + out_text).split()\n",
    "out2 = (out_text + ' <eos>').split()"
   ]
  },
  {
   "cell_type": "code",
   "execution_count": 46,
   "id": "2756694b-52ee-4c2f-9669-8137f803abdc",
   "metadata": {},
   "outputs": [
    {
     "data": {
      "text/plain": [
       "['ravi', 'de', 'vous', 'rencontrer', '<eos>']"
      ]
     },
     "execution_count": 46,
     "metadata": {},
     "output_type": "execute_result"
    }
   ],
   "source": [
    "out2"
   ]
  },
  {
   "cell_type": "code",
   "execution_count": 50,
   "id": "07013602-23c8-45aa-b093-ff74fd54cefc",
   "metadata": {},
   "outputs": [],
   "source": [
    "#input_decode = []\n",
    "input_decode = [out_to_index[x] for x in out1]\n",
    "target = [out_to_index[x] for x in out2]\n",
    "    "
   ]
  },
  {
   "cell_type": "code",
   "execution_count": 52,
   "id": "b2c0fa0a-45df-4241-bd17-6008d1964b67",
   "metadata": {},
   "outputs": [
    {
     "data": {
      "text/plain": [
       "[1, 4, 3, 2, 5]"
      ]
     },
     "execution_count": 52,
     "metadata": {},
     "output_type": "execute_result"
    }
   ],
   "source": [
    "target"
   ]
  },
  {
   "cell_type": "code",
   "execution_count": null,
   "id": "27930f54-3a84-42fb-b776-dc72c190dcba",
   "metadata": {},
   "outputs": [],
   "source": []
  },
  {
   "cell_type": "code",
   "execution_count": 60,
   "id": "76216191-d57a-4ac0-ae65-79568643e452",
   "metadata": {},
   "outputs": [],
   "source": [
    "# One-Hot Encoding 적용\n",
    "x = one_hot_encode(input_sequences,4)\n"
   ]
  },
  {
   "cell_type": "code",
   "execution_count": 62,
   "id": "590d4ff7-7ef4-4515-bf4f-2618df77d787",
   "metadata": {},
   "outputs": [
    {
     "data": {
      "text/plain": [
       "(4, 4)"
      ]
     },
     "execution_count": 62,
     "metadata": {},
     "output_type": "execute_result"
    }
   ],
   "source": [
    "x.shape"
   ]
  },
  {
   "cell_type": "code",
   "execution_count": null,
   "id": "f03f7dfb-d033-4144-b4c4-9d749d1b0d10",
   "metadata": {},
   "outputs": [],
   "source": []
  },
  {
   "cell_type": "code",
   "execution_count": null,
   "id": "fe428082-3872-4add-a84a-55be68037981",
   "metadata": {},
   "outputs": [],
   "source": [
    "y = np.array(output_sequences)\n",
    "\n",
    "# Tensor 변환\n",
    "x_encoder = torch.tensor(x, dtype=torch.float32)  # 입력은 Float Tensor\n",
    "x_decoder = torch.tensor(y, dtype=torch.long)  # 출력은 Long Tensor"
   ]
  }
 ],
 "metadata": {
  "kernelspec": {
   "display_name": "Python 3 (ipykernel)",
   "language": "python",
   "name": "python3"
  },
  "language_info": {
   "codemirror_mode": {
    "name": "ipython",
    "version": 3
   },
   "file_extension": ".py",
   "mimetype": "text/x-python",
   "name": "python",
   "nbconvert_exporter": "python",
   "pygments_lexer": "ipython3",
   "version": "3.8.10"
  }
 },
 "nbformat": 4,
 "nbformat_minor": 5
}
