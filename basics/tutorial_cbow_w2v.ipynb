{
 "cells": [
  {
   "cell_type": "code",
   "execution_count": 1,
   "id": "167d0c35-1f23-4e7a-b3b4-b5c5dd6a489e",
   "metadata": {},
   "outputs": [],
   "source": [
    "import torch\n",
    "import torch.nn as nn\n",
    "import torch.optim as optim\n",
    "from torch.utils.data import Dataset, DataLoader"
   ]
  },
  {
   "cell_type": "code",
   "execution_count": 2,
   "id": "331e990f-bf79-4537-91d5-7d5172b879ad",
   "metadata": {},
   "outputs": [],
   "source": [
    "\n",
    "# 1. 데이터 준비\n",
    "sentence = \"나는 오늘 날씨가 정말 좋다\"\n",
    "window_size = 2  # 주변 단어의 개수"
   ]
  },
  {
   "cell_type": "code",
   "execution_count": 3,
   "id": "93227651-2f3c-4dce-96a5-1b0944e144b7",
   "metadata": {},
   "outputs": [],
   "source": [
    "# 토크나이징 및 단어 인덱스 생성\n",
    "words = sentence.split()\n",
    "word_to_idx = {word: idx for idx, word in enumerate(set(words))}\n",
    "idx_to_word = {idx: word for word, idx in word_to_idx.items()}\n",
    "vocab_size = len(word_to_idx)"
   ]
  },
  {
   "cell_type": "code",
   "execution_count": 4,
   "id": "5bcd60b6-1e6b-4b77-9c20-aacd3b543166",
   "metadata": {},
   "outputs": [
    {
     "data": {
      "text/plain": [
       "{'날씨가': 0, '좋다': 1, '나는': 2, '정말': 3, '오늘': 4}"
      ]
     },
     "execution_count": 4,
     "metadata": {},
     "output_type": "execute_result"
    }
   ],
   "source": [
    "word_to_idx"
   ]
  },
  {
   "cell_type": "code",
   "execution_count": 5,
   "id": "0a4da5ad-fd3d-4892-86bf-5f5035220752",
   "metadata": {},
   "outputs": [
    {
     "data": {
      "text/plain": [
       "['나는', '오늘', '날씨가', '정말', '좋다']"
      ]
     },
     "execution_count": 5,
     "metadata": {},
     "output_type": "execute_result"
    }
   ],
   "source": [
    "words"
   ]
  },
  {
   "cell_type": "code",
   "execution_count": 6,
   "id": "75cd7793-ba1b-4c03-809e-1328c0de57d3",
   "metadata": {},
   "outputs": [
    {
     "data": {
      "text/plain": [
       "{0: '날씨가', 1: '좋다', 2: '나는', 3: '정말', 4: '오늘'}"
      ]
     },
     "execution_count": 6,
     "metadata": {},
     "output_type": "execute_result"
    }
   ],
   "source": [
    "idx_to_word "
   ]
  },
  {
   "cell_type": "code",
   "execution_count": 10,
   "id": "53922542-fa54-4a36-a6fe-3f8d37fc5747",
   "metadata": {},
   "outputs": [
    {
     "name": "stdout",
     "output_type": "stream",
     "text": [
      "2\n"
     ]
    }
   ],
   "source": [
    "# CBOW 데이터셋 생성 함수\n",
    "def create_cbow_data(words, window_size):\n",
    "    data = []\n",
    "    for i in range(window_size, len(words) - window_size):\n",
    "        print(i)\n",
    "        context = (\n",
    "            words[i - window_size:i] + words[i + 1:i + 1 + window_size]\n",
    "        )  # 주변 단어\n",
    "        target = words[i]  # 중심 단어\n",
    "        data.append((context, target))\n",
    "    return data\n",
    "\n",
    "data = create_cbow_data(words, window_size)"
   ]
  },
  {
   "cell_type": "code",
   "execution_count": 8,
   "id": "b2574868-8948-4ed1-9dec-672f64313e7b",
   "metadata": {},
   "outputs": [],
   "source": [
    "data = create_cbow_data(words, window_size)"
   ]
  },
  {
   "cell_type": "code",
   "execution_count": 9,
   "id": "bc57d320-bef7-4e58-b591-d32e2286c9d6",
   "metadata": {},
   "outputs": [
    {
     "data": {
      "text/plain": [
       "[(['나는', '오늘', '정말', '좋다'], '날씨가')]"
      ]
     },
     "execution_count": 9,
     "metadata": {},
     "output_type": "execute_result"
    }
   ],
   "source": [
    "data"
   ]
  },
  {
   "cell_type": "code",
   "execution_count": 13,
   "id": "dccb3a92-195e-4c35-a343-70635ea467ef",
   "metadata": {},
   "outputs": [],
   "source": [
    "# 단어를 인덱스로 변환\n",
    "data_idx = [\n",
    "    ([word_to_idx[w] for w in context], word_to_idx[target]) for context, target in data\n",
    "]"
   ]
  },
  {
   "cell_type": "code",
   "execution_count": 14,
   "id": "eef27fcf-3d10-4f53-97bd-4464d56d6591",
   "metadata": {},
   "outputs": [
    {
     "data": {
      "text/plain": [
       "[([2, 4, 3, 1], 0)]"
      ]
     },
     "execution_count": 14,
     "metadata": {},
     "output_type": "execute_result"
    }
   ],
   "source": [
    "data_idx"
   ]
  },
  {
   "cell_type": "code",
   "execution_count": 15,
   "id": "44311bc3-833b-452a-9e4c-11d99999d6bc",
   "metadata": {},
   "outputs": [],
   "source": [
    "# 2. 데이터셋 정의\n",
    "class CBOWDataset(Dataset):\n",
    "    def __init__(self, data):\n",
    "        self.data = data\n",
    "\n",
    "    def __len__(self):\n",
    "        return len(self.data)\n",
    "\n",
    "    def __getitem__(self, idx):\n",
    "        context, target = self.data[idx]\n",
    "        return torch.tensor(context), torch.tensor(target)"
   ]
  },
  {
   "cell_type": "code",
   "execution_count": 16,
   "id": "a9337ab4-a7a5-4d92-9a50-ddc22c781a10",
   "metadata": {},
   "outputs": [],
   "source": [
    "dataset = CBOWDataset(data_idx)\n",
    "dataloader = DataLoader(dataset, batch_size=2, shuffle=True)"
   ]
  }
 ],
 "metadata": {
  "kernelspec": {
   "display_name": "Python 3 (ipykernel)",
   "language": "python",
   "name": "python3"
  },
  "language_info": {
   "codemirror_mode": {
    "name": "ipython",
    "version": 3
   },
   "file_extension": ".py",
   "mimetype": "text/x-python",
   "name": "python",
   "nbconvert_exporter": "python",
   "pygments_lexer": "ipython3",
   "version": "3.8.10"
  }
 },
 "nbformat": 4,
 "nbformat_minor": 5
}
