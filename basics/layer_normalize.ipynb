{
 "cells": [
  {
   "cell_type": "code",
   "execution_count": 5,
   "id": "cc59852e-e57c-484b-9716-fb191c433509",
   "metadata": {},
   "outputs": [],
   "source": [
    "import torch\n",
    "import torch.nn as nn"
   ]
  },
  {
   "cell_type": "code",
   "execution_count": 2,
   "id": "1c05f3d5-20ed-4093-a37b-d1aee2ef5f9a",
   "metadata": {},
   "outputs": [
    {
     "data": {
      "text/plain": [
       "tensor([[[51., 89., 14.],\n",
       "         [ 5., 18., 69.],\n",
       "         [45.,  9., 75.],\n",
       "         [26., 21., 29.],\n",
       "         [74., 44., 74.]],\n",
       "\n",
       "        [[51., 58., 36.],\n",
       "         [99., 57., 71.],\n",
       "         [53., 92., 25.],\n",
       "         [88., 16.,  0.],\n",
       "         [61., 73., 14.]],\n",
       "\n",
       "        [[57., 51., 14.],\n",
       "         [83., 20., 70.],\n",
       "         [75., 95., 58.],\n",
       "         [46., 75., 62.],\n",
       "         [97., 93., 71.]],\n",
       "\n",
       "        [[77., 98., 79.],\n",
       "         [33., 27., 91.],\n",
       "         [79., 56., 51.],\n",
       "         [20., 20., 32.],\n",
       "         [84.,  3., 83.]]])"
      ]
     },
     "execution_count": 2,
     "metadata": {},
     "output_type": "execute_result"
    }
   ],
   "source": [
    "# Input Tensor: 4 matrices of 5 rows and 3 columns\n",
    "X = torch.randint(0, 100, (4, 5, 3)).float()\n",
    "\n",
    "# Shape to be Normalized: 5 rows, 3 columns\n",
    "normalized_shape = (5, 3)\n",
    "\n",
    "# Number of Dimensions in the Shape to be Normalized\n",
    "D = len(normalized_shape)\n",
    "\n",
    "# Set the Default Values for Epsilon, Gamma, and Beta\n",
    "eps = 1e-5\n",
    "gamma = torch.ones(normalized_shape)\n",
    "beta = torch.zeros(normalized_shape)\n",
    "\n",
    "X"
   ]
  },
  {
   "cell_type": "code",
   "execution_count": 4,
   "id": "4f5732d9-ab20-495f-8ff6-4451fdbf29e3",
   "metadata": {},
   "outputs": [
    {
     "data": {
      "text/plain": [
       "torch.Size([5, 3])"
      ]
     },
     "execution_count": 4,
     "metadata": {},
     "output_type": "execute_result"
    }
   ],
   "source": [
    "gamma.shape"
   ]
  },
  {
   "cell_type": "code",
   "execution_count": 3,
   "id": "f076cee5-1e9e-4ebe-82eb-fd98c2bbe07e",
   "metadata": {},
   "outputs": [
    {
     "name": "stdout",
     "output_type": "stream",
     "text": [
      "μ = 42.8667\n",
      "σ^2 = 722.7822\n",
      "tensor([[ 0.3025,  1.7160, -1.0737],\n",
      "        [-1.4085, -0.9249,  0.9721],\n",
      "        [ 0.0794, -1.2597,  1.1952],\n",
      "        [-0.6274, -0.8134, -0.5158],\n",
      "        [ 1.1580,  0.0422,  1.1580]])\n",
      "==================================================\n",
      "μ = 52.9333\n",
      "σ^2 = 831.1289\n",
      "tensor([[-0.0671,  0.1757, -0.5874],\n",
      "        [ 1.5979,  0.1411,  0.6267],\n",
      "        [ 0.0023,  1.3551, -0.9689],\n",
      "        [ 1.2164, -1.2811, -1.8361],\n",
      "        [ 0.2798,  0.6961, -1.3505]])\n",
      "==================================================\n",
      "μ = 64.4667\n",
      "σ^2 = 572.9155\n",
      "tensor([[-0.3119, -0.5626, -2.1084],\n",
      "        [ 0.7743, -1.8578,  0.2312],\n",
      "        [ 0.4401,  1.2756, -0.2702],\n",
      "        [-0.7715,  0.4401, -0.1031],\n",
      "        [ 1.3592,  1.1921,  0.2730]])\n",
      "==================================================\n",
      "μ = 55.5333\n",
      "σ^2 = 891.3156\n",
      "tensor([[ 0.7190,  1.4224,  0.7860],\n",
      "        [-0.7548, -0.9557,  1.1880],\n",
      "        [ 0.7860,  0.0156, -0.1518],\n",
      "        [-1.1902, -1.1902, -0.7883],\n",
      "        [ 0.9535, -1.7596,  0.9200]])\n",
      "==================================================\n"
     ]
    }
   ],
   "source": [
    "# Normalize\n",
    "for i in range(0,4):               # loop through each matrix\n",
    "  mean = X[i].mean()               # mean         \n",
    "  var = X[i].var(unbiased=False)   # variance\n",
    "  layer_norm = (X[i]-mean)/(torch.sqrt(var+eps))*gamma + beta \n",
    "\n",
    "  print(f\"μ = {mean:.4f}\")            \n",
    "  print(f\"σ^{2} = {var:.4f}\") \n",
    "  print(layer_norm)\n",
    "  print(\"=\"*50)"
   ]
  },
  {
   "cell_type": "code",
   "execution_count": 6,
   "id": "ac27e741-70d5-4d93-8730-24ef6a46f862",
   "metadata": {},
   "outputs": [
    {
     "data": {
      "text/plain": [
       "tensor([[[ 0.3025,  1.7160, -1.0737],\n",
       "         [-1.4085, -0.9249,  0.9721],\n",
       "         [ 0.0794, -1.2597,  1.1952],\n",
       "         [-0.6274, -0.8134, -0.5158],\n",
       "         [ 1.1580,  0.0422,  1.1580]],\n",
       "\n",
       "        [[-0.0671,  0.1757, -0.5874],\n",
       "         [ 1.5979,  0.1411,  0.6267],\n",
       "         [ 0.0023,  1.3551, -0.9689],\n",
       "         [ 1.2164, -1.2811, -1.8361],\n",
       "         [ 0.2798,  0.6961, -1.3505]],\n",
       "\n",
       "        [[-0.3119, -0.5626, -2.1084],\n",
       "         [ 0.7743, -1.8578,  0.2312],\n",
       "         [ 0.4401,  1.2756, -0.2702],\n",
       "         [-0.7715,  0.4401, -0.1031],\n",
       "         [ 1.3592,  1.1921,  0.2730]],\n",
       "\n",
       "        [[ 0.7190,  1.4224,  0.7860],\n",
       "         [-0.7548, -0.9557,  1.1880],\n",
       "         [ 0.7860,  0.0156, -0.1518],\n",
       "         [-1.1902, -1.1902, -0.7883],\n",
       "         [ 0.9535, -1.7596,  0.9200]]], grad_fn=<NativeLayerNormBackward0>)"
      ]
     },
     "execution_count": 6,
     "metadata": {},
     "output_type": "execute_result"
    }
   ],
   "source": [
    "layer_normalization = nn.LayerNorm(normalized_shape) # nn.LayerNorm((5,3))\n",
    "layer_normalization(X)"
   ]
  },
  {
   "cell_type": "code",
   "execution_count": 9,
   "id": "ebf442b1-8551-42e7-b6dc-d808955a086f",
   "metadata": {},
   "outputs": [
    {
     "data": {
      "text/plain": [
       "OrderedDict([('weight', tensor([1., 1., 1., 1., 1.])),\n",
       "             ('bias', tensor([0., 0., 0., 0., 0.]))])"
      ]
     },
     "execution_count": 9,
     "metadata": {},
     "output_type": "execute_result"
    }
   ],
   "source": [
    "# Input Tensor: 2 sequences of 3 tokens with 5 dimensional embeddings\n",
    "X = X = torch.randint(0, 100, (2, 3, 5)).float()\n",
    "\n",
    "# Shape to be Normalized: 5 dimensional embedding\n",
    "normalized_shape = (5,)\n",
    "\n",
    "# Number of Dimensions in the Shape to be Normalized\n",
    "D = len(normalized_shape) # 1\n",
    "\n",
    "# Create the LayerNorm \n",
    "layer_normalization = nn.LayerNorm(normalized_shape)\n",
    "\n",
    "# view the beta and gamma and beta\n",
    "layer_normalization.state_dict()"
   ]
  },
  {
   "cell_type": "code",
   "execution_count": 10,
   "id": "5eb8e5a6-d7a2-4a48-9e43-e8747fd8b5ee",
   "metadata": {},
   "outputs": [
    {
     "data": {
      "text/plain": [
       "tensor([[[89., 28., 76., 75.,  3.],\n",
       "         [94.,  3., 64., 42., 73.],\n",
       "         [52., 24., 42., 86., 70.]],\n",
       "\n",
       "        [[ 6., 30., 22., 54., 15.],\n",
       "         [60., 14., 42., 45.,  8.],\n",
       "         [55., 75., 55., 55., 62.]]])"
      ]
     },
     "execution_count": 10,
     "metadata": {},
     "output_type": "execute_result"
    }
   ],
   "source": [
    "X"
   ]
  },
  {
   "cell_type": "code",
   "execution_count": 11,
   "id": "29d8ae4a-5e16-4dd0-8980-43b0eb329a37",
   "metadata": {},
   "outputs": [
    {
     "data": {
      "text/plain": [
       "tensor([[[54.2000],\n",
       "         [55.2000],\n",
       "         [54.8000]],\n",
       "\n",
       "        [[25.4000],\n",
       "         [33.8000],\n",
       "         [60.4000]]])"
      ]
     },
     "execution_count": 11,
     "metadata": {},
     "output_type": "execute_result"
    }
   ],
   "source": [
    "X.mean(2, keepdims=True) # maintains the dimensions of X"
   ]
  }
 ],
 "metadata": {
  "kernelspec": {
   "display_name": "Python 3 (ipykernel)",
   "language": "python",
   "name": "python3"
  },
  "language_info": {
   "codemirror_mode": {
    "name": "ipython",
    "version": 3
   },
   "file_extension": ".py",
   "mimetype": "text/x-python",
   "name": "python",
   "nbconvert_exporter": "python",
   "pygments_lexer": "ipython3",
   "version": "3.8.10"
  }
 },
 "nbformat": 4,
 "nbformat_minor": 5
}
