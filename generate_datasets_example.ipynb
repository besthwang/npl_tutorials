{
 "cells": [
  {
   "cell_type": "code",
   "execution_count": 1,
   "id": "869f1857-66e0-4b34-86a1-567fd6e9440f",
   "metadata": {},
   "outputs": [],
   "source": [
    "import numpy as np\n",
    "import torch\n",
    "import torch.nn as nn\n",
    "import torch.nn.functional as F\n",
    "import math, copy, time\n",
    "from torch.autograd import Variable\n",
    "import matplotlib.pyplot as plt\n",
    "import seaborn\n",
    "seaborn.set_context(context=\"talk\")\n",
    "%matplotlib inline"
   ]
  },
  {
   "cell_type": "markdown",
   "id": "f42edc3e-4432-4f29-a879-dcd058e049e9",
   "metadata": {},
   "source": [
    "이 코드는 Transformer 모델을 학습할 때, 한 번의 배치(batch)에 포함된 데이터를 다루는 Batch 클래스입니다.  \n",
    "핵심은 마스크(mask)를 생성해서 모델이 패딩 토큰을 무시하고, 디코더가 미래의 단어를 보지 않도록 제한하는 것입니다.  \n",
    "아래에 주요 부분을 단계적으로 설명드릴게요."
   ]
  },
  {
   "cell_type": "code",
   "execution_count": 2,
   "id": "66c082ea-17f4-4b14-b299-4db9fcb50ae1",
   "metadata": {},
   "outputs": [],
   "source": [
    "class Batch:\n",
    "    \"\"\"Object for holding a batch of data with mask during training.\"\"\"\n",
    "\n",
    "    def __init__(self, src, tgt=None, pad=2):  # 2 = <blank>\n",
    "        self.src = src\n",
    "        self.src_mask = (src != pad).unsqueeze(-2)\n",
    "        if tgt is not None:\n",
    "            self.tgt = tgt[:, :-1]\n",
    "            self.tgt_y = tgt[:, 1:]\n",
    "            self.tgt_mask = self.make_std_mask(self.tgt, pad)\n",
    "            self.ntokens = (self.tgt_y != pad).data.sum()\n",
    "\n",
    "    @staticmethod\n",
    "    def make_std_mask(tgt, pad):\n",
    "        \"Create a mask to hide padding and future words.\"\n",
    "        tgt_mask = (tgt != pad).unsqueeze(-2)\n",
    "        tgt_mask = tgt_mask & subsequent_mask(tgt.size(-1)).type_as(\n",
    "            tgt_mask.data\n",
    "        )\n",
    "        return tgt_mask"
   ]
  },
  {
   "cell_type": "markdown",
   "id": "083572aa-45aa-4487-b08e-43fac6fb2ed9",
   "metadata": {},
   "source": [
    "## 주요 속성 및 역할\n",
    "### 1. self.src_mask\n",
    "``` python\n",
    "self.src_mask = (src != pad).unsqueeze(-2)\n",
    "```\n",
    "\n",
    "소스 시퀀스에서 패딩(pad)이 아닌 위치를 True로 표시하는 마스크입니다.  \n",
    ".unsqueeze(-2)는 형태를 (batch_size, 1, seq_len)으로 만들어 멀티헤드 어텐션에서 broadcasting이 가능하게 합니다."
   ]
  },
  {
   "cell_type": "code",
   "execution_count": null,
   "id": "9837f616-70d2-4d3c-b01c-a70791b9b8a2",
   "metadata": {},
   "outputs": [],
   "source": [
    "def data_gen(V, batch, nbatches):\n",
    "    \"Generate random data for a src-tgt copy task.\"\n",
    "    for i in range(nbatches):\n",
    "        data = torch.from_numpy(np.random.randint(1, V, size=(batch, 10)))\n",
    "        data[:, 0] = 1\n",
    "        src = Variable(data, requires_grad=False)\n",
    "        tgt = Variable(data, requires_grad=False)\n",
    "        yield Batch(src, tgt, 0)"
   ]
  }
 ],
 "metadata": {
  "kernelspec": {
   "display_name": "Python 3 (ipykernel)",
   "language": "python",
   "name": "python3"
  },
  "language_info": {
   "codemirror_mode": {
    "name": "ipython",
    "version": 3
   },
   "file_extension": ".py",
   "mimetype": "text/x-python",
   "name": "python",
   "nbconvert_exporter": "python",
   "pygments_lexer": "ipython3",
   "version": "3.8.10"
  }
 },
 "nbformat": 4,
 "nbformat_minor": 5
}
