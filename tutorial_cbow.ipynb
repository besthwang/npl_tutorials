{
 "cells": [
  {
   "cell_type": "code",
   "execution_count": 1,
   "id": "8a7f4176-8dc0-4b97-a5b6-61407d76f8d1",
   "metadata": {},
   "outputs": [],
   "source": [
    "import torch\n",
    "import numpy as np\n",
    "import torch.nn as nn\n",
    "import torch.nn.functional as F\n",
    "import torch.optim as optim\n",
    "from torch.autograd import Variable"
   ]
  },
  {
   "cell_type": "code",
   "execution_count": 2,
   "id": "aafe0101-7517-4303-9c96-588ae475af50",
   "metadata": {},
   "outputs": [],
   "source": [
    "def make_context_vector(context, word_to_idx):\n",
    "    idxs = [word_to_idx[w] for w in context]\n",
    "    return torch.tensor(idxs, dtype=torch.long)"
   ]
  },
  {
   "cell_type": "code",
   "execution_count": 3,
   "id": "fd8f04ce-170a-46a2-8f69-70a657af8686",
   "metadata": {},
   "outputs": [],
   "source": [
    "torch.manual_seed(1)\n",
    "\n",
    "# Implementing CBOW model for the exercise given by a tutorial in pytorch.org/tutorials/beginner/nlp/word_embeddings_tutorial.html\n",
    "context_size = 2 # {w_i-2 ... w_i ... w_i+2}\n",
    "embedding_dim = 10\n",
    "\n",
    "raw_text = \"\"\"We are about to study the idea of a computational process.\n",
    "Computational processes are abstract beings that inhabit computers.\n",
    "As they evolve, processes manipulate other abstract things called data.\n",
    "The evolution of a process is directed by a pattern of rules\n",
    "called a program. People create programs to direct processes. In effect,\n",
    "we conjure the spirits of the computer with our spells.\"\"\".split()"
   ]
  },
  {
   "cell_type": "code",
   "execution_count": 4,
   "id": "76149c65-e23d-430a-a7e7-f74534f19308",
   "metadata": {},
   "outputs": [],
   "source": [
    "class CBOW(nn.Module):\n",
    "    \n",
    "    def __init__(self, vocab_size, embedding_dim):\n",
    "        super(CBOW, self).__init__()\n",
    "        self.embeddings = nn.Embedding(vocab_size, embedding_dim)\n",
    "        self.proj = nn.Linear(embedding_dim, 128)\n",
    "        self.output = nn.Linear(128, vocab_size)\n",
    "        \n",
    "    def forward(self, inputs):\n",
    "        embeds = sum(self.embeddings(inputs)).view(1, -1)\n",
    "        out = F.relu(self.proj(embeds))\n",
    "        out = self.output(out)\n",
    "        nll_prob = F.log_softmax(out, dim=-1)\n",
    "        return nll_prob"
   ]
  },
  {
   "cell_type": "code",
   "execution_count": 5,
   "id": "59feae4b-1f5a-490e-9c55-da624dd58bff",
   "metadata": {},
   "outputs": [
    {
     "name": "stdout",
     "output_type": "stream",
     "text": [
      "[231.01988804340363, 225.78056466579437, 220.84456384181976, 216.17986977100372, 211.76183533668518, 207.5667371749878, 203.57226872444153, 199.75444757938385, 196.09503555297852, 192.57728600502014, 189.18526601791382, 185.9053567647934, 182.72436380386353, 179.63405764102936, 176.62561213970184, 173.69162046909332, 170.8267730474472, 168.02760422229767, 165.28968572616577, 162.6090499162674, 159.98347198963165, 157.4135344028473, 154.89260923862457, 152.42107915878296, 149.9935007095337, 147.61142098903656, 145.2743947505951, 142.97936463356018, 140.72442543506622, 138.50938284397125, 136.33307874202728, 134.19420790672302, 132.08992570638657, 130.0212351679802, 127.98459303379059, 125.98146688938141, 124.0095751285553, 122.06960767507553, 120.15975046157837, 118.27977484464645, 116.43024837970734, 114.60841220617294, 112.81598377227783, 111.05099505186081, 109.31064599752426, 107.59685772657394, 105.9103861451149, 104.24831330776215, 102.61256778240204, 101.0044537782669, 99.41938710212708, 97.86027693748474, 96.32401621341705, 94.81121337413788, 93.3223996758461, 91.85807526111603, 90.41233056783676, 88.99201267957687, 87.59250277280807, 86.21536147594452, 84.86142373085022, 83.52781483530998, 82.21393683552742, 80.92335709929466, 79.6522889137268, 78.40236711502075, 77.17164036631584, 75.96046480536461, 74.76934361457825, 73.59800216555595, 72.44215494394302, 71.30829358100891, 70.19042953848839, 69.09221681952477, 68.01319375634193, 66.95089036226273, 65.90618631243706, 64.87980592250824, 63.87024083733559, 62.87891846895218, 61.90327903628349, 60.94557300209999, 60.0057609975338, 59.08136111497879, 58.17508155107498, 57.282017171382904, 56.40435430407524, 55.544088304042816, 54.69942203164101, 53.86836349964142, 53.05291190743446, 52.2492418885231, 51.462626963853836, 50.68950134515762, 49.930805534124374, 49.18496459722519, 48.45443421602249, 47.7356171309948, 47.029069006443024, 46.336884662508965]\n"
     ]
    }
   ],
   "source": [
    "\n",
    "vocab = set(raw_text)\n",
    "vocab_size = len(vocab)\n",
    "\n",
    "word_to_idx = {word: i for i, word in enumerate(vocab)}\n",
    "idx_to_word = {i: word for i, word in enumerate(vocab)}\n",
    "\n",
    "data = []\n",
    "\n",
    "for i in range(2, len(raw_text) - 2):\n",
    "    context = [raw_text[i-2], raw_text[i-1],\n",
    "               raw_text[i+1], raw_text[i+2]]\n",
    "    target = raw_text[i]\n",
    "    data.append((context, target))\n",
    "\n",
    "model = CBOW(vocab_size, embedding_dim)\n",
    "optimizer = optim.SGD(model.parameters(), lr=0.001)\n",
    "\n",
    "losses = []\n",
    "loss_function = nn.NLLLoss()\n",
    "\n",
    "for epoch in range(100):\n",
    "    total_loss = 0\n",
    "    for context, target in data:\n",
    "        context_vector = make_context_vector(context, word_to_idx)\n",
    "        \n",
    "        # Remember PyTorch accumulates gradients; zero them out\n",
    "        model.zero_grad()\n",
    "        \n",
    "        nll_prob = model(context_vector)\n",
    "        loss = loss_function(nll_prob, Variable(torch.tensor([word_to_idx[target]])))\n",
    "        \n",
    "        # backpropagation\n",
    "        loss.backward()\n",
    "        # update the parameters\n",
    "        optimizer.step() \n",
    "        \n",
    "        total_loss += loss.item()\n",
    "        \n",
    "    losses.append(total_loss)\n",
    "\n",
    "print(losses)\n"
   ]
  },
  {
   "cell_type": "code",
   "execution_count": 6,
   "id": "39ff34d7-6cbe-4a90-aa12-9e617721a6d8",
   "metadata": {},
   "outputs": [
    {
     "name": "stdout",
     "output_type": "stream",
     "text": [
      "*************************************************************************\n",
      "Raw text: We are about to study the idea of a computational process. Computational processes are abstract beings that inhabit computers. As they evolve, processes manipulate other abstract things called data. The evolution of a process is directed by a pattern of rules called a program. People create programs to direct processes. In effect, we conjure the spirits of the computer with our spells.\n",
      "\n",
      "Test Context: ['process.', 'Computational', 'are', 'abstract']\n",
      "\n",
      "Prediction: processes\n"
     ]
    }
   ],
   "source": [
    "\n",
    "# Let's see if our CBOW model works or not\n",
    "\n",
    "print(\"*************************************************************************\")\n",
    "\n",
    "context = ['process.','Computational','are', 'abstract']\n",
    "context_vector = make_context_vector(context, word_to_idx)\n",
    "a = model(context_vector).data.numpy()\n",
    "print('Raw text: {}\\n'.format(' '.join(raw_text)))\n",
    "print('Test Context: {}\\n'.format(context))\n",
    "max_idx = np.argmax(a)\n",
    "print('Prediction: {}'.format(idx_to_word[max_idx]))"
   ]
  }
 ],
 "metadata": {
  "kernelspec": {
   "display_name": "Python 3 (ipykernel)",
   "language": "python",
   "name": "python3"
  },
  "language_info": {
   "codemirror_mode": {
    "name": "ipython",
    "version": 3
   },
   "file_extension": ".py",
   "mimetype": "text/x-python",
   "name": "python",
   "nbconvert_exporter": "python",
   "pygments_lexer": "ipython3",
   "version": "3.8.10"
  }
 },
 "nbformat": 4,
 "nbformat_minor": 5
}
