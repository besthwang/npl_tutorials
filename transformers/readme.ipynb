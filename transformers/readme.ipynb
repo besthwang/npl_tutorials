{
 "cells": [
  {
   "cell_type": "markdown",
   "id": "bd60dcda-45bb-4c6a-b327-80df602b654e",
   "metadata": {},
   "source": [
    "## attention 관련 문서 정리\n",
    "- [16-01 트랜스포머(Transformer)](attention.ipynb) : <br>\n",
    "  [딥 러닝을 이용한 자연어 처리 입문](https://wikidocs.net/31379)에 있는 내용을 정리함.\n",
    "  attention을 이해하기 좋은 자료임.\n",
    "- [harvard attention 구현 및 attention 논문](./havard_multihead_attention.ipynb) :\n",
    "  논문설명과 harvard 코드 구현, 사용법이 설명됨\n",
    "- [MultiHeadAttention](MultiHeadAttention.ipynb) :  `딥 러닝을 이용한 자연어 처리 입문`에 <br>\n",
    "있는 멀티헤드 attention을 pytorch 버전으로 변경하고, harvard 버전의 data로 테스트 할 수 있음.\n",
    "  "
   ]
  },
  {
   "cell_type": "markdown",
   "id": "811dffba-abd1-464f-80ed-76e03f8c4d4d",
   "metadata": {},
   "source": [
    "## Position Encoding\n",
    "- [positional_encodingII.ipynb](./positional_encodingII.ipynb) : [딥 러닝을 이용한 자연어 처리 입문](https://wikidocs.net/31379)에 있는 내용을 정리함"
   ]
  },
  {
   "cell_type": "markdown",
   "id": "3a0b1b6e-0782-475c-98d7-a2ffada62515",
   "metadata": {},
   "source": [
    "## Feed-Forward Networks\n",
    "- [Position-wise-FFNN.ipynb](./Position-wise-FFNN.ipynb) [딥 러닝을 이용한 자연어 처리 입문](https://wikidocs.net/31379)에 있는 내용을 정리함\n"
   ]
  },
  {
   "cell_type": "markdown",
   "id": "5deaf0dc-0cca-498a-adc8-5950d8fd8a74",
   "metadata": {},
   "source": [
    "## Masking\n",
    "- [Understanding_Masking_in_PyTorch_for_Attention_Mechanisms.ipynb](Understanding_Masking_in_PyTorch_for_Attention_Mechanisms.ipynb) : <br>\n",
    "  [Understanding Masking in PyTorch for Attention Mechanisms](https://medium.com/@swarms/understanding-masking-in-pytorch-for-attention-mechanisms-e725059fd49f) 를 참고함.\n",
    "- [decoder_selfattention_look_a_head_mask.ipynb](./decoder_selfattention_look_a_head_mask.ipynb) : [딥 러닝을 이용한 자연어 처리 입문](https://wikidocs.net/31379)에 있는 내용을 정리함"
   ]
  }
 ],
 "metadata": {
  "kernelspec": {
   "display_name": "Python 3 (ipykernel)",
   "language": "python",
   "name": "python3"
  },
  "language_info": {
   "codemirror_mode": {
    "name": "ipython",
    "version": 3
   },
   "file_extension": ".py",
   "mimetype": "text/x-python",
   "name": "python",
   "nbconvert_exporter": "python",
   "pygments_lexer": "ipython3",
   "version": "3.8.10"
  }
 },
 "nbformat": 4,
 "nbformat_minor": 5
}
