{
 "cells": [
  {
   "cell_type": "markdown",
   "id": "bdf39ffa-6bf3-44ee-b270-74f0cc1e2e23",
   "metadata": {},
   "source": [
    "**참고문헌**  \n",
    "\\[1\\] [16-01 트랜스포머(Transformer)](https://wikidocs.net/31379)  \n",
    "\\[2\\] [The Annotated Transformer](https://nlp.seas.harvard.edu/2018/04/03/attention.html#prelims)  "
   ]
  },
  {
   "cell_type": "code",
   "execution_count": 1,
   "id": "1c7725e9-1b0a-4cb8-ae93-cf40b3c78582",
   "metadata": {},
   "outputs": [],
   "source": [
    "import numpy as np\n",
    "import torch\n",
    "import torch.nn as nn\n",
    "import torch.nn.functional as F\n",
    "import math, copy, time\n",
    "from torch.autograd import Variable\n",
    "import matplotlib.pyplot as plt\n",
    "import seaborn\n",
    "seaborn.set_context(context=\"talk\")\n",
    "%matplotlib inline"
   ]
  },
  {
   "cell_type": "code",
   "execution_count": 2,
   "id": "9d7ffe11-229c-4233-a054-9c33d8792038",
   "metadata": {},
   "outputs": [],
   "source": [
    "class EncoderDecoder(nn.Module):\n",
    "    \"\"\"\n",
    "    A standard Encoder-Decoder architecture. Base for this and many \n",
    "    other models.\n",
    "    \"\"\"\n",
    "    def __init__(self, encoder, decoder, src_embed, tgt_embed, generator):\n",
    "        super(EncoderDecoder, self).__init__()\n",
    "        self.encoder = encoder\n",
    "        self.decoder = decoder\n",
    "        self.src_embed = src_embed\n",
    "        self.tgt_embed = tgt_embed\n",
    "        self.generator = generator\n",
    "        \n",
    "    def forward(self, src, tgt, src_mask, tgt_mask):\n",
    "        \"Take in and process masked src and target sequences.\"\n",
    "        return self.decode(self.encode(src, src_mask), src_mask,\n",
    "                            tgt, tgt_mask)\n",
    "    \n",
    "    def encode(self, src, src_mask):\n",
    "        return self.encoder(self.src_embed(src), src_mask)\n",
    "    \n",
    "    def decode(self, memory, src_mask, tgt, tgt_mask):\n",
    "        return self.decoder(self.tgt_embed(tgt), memory, src_mask, tgt_mask)\n",
    "\n",
    "class Generator(nn.Module):\n",
    "    \"Define standard linear + softmax generation step.\"\n",
    "    def __init__(self, d_model, vocab):\n",
    "        super(Generator, self).__init__()\n",
    "        self.proj = nn.Linear(d_model, vocab)\n",
    "\n",
    "    def forward(self, x):\n",
    "        return F.log_softmax(self.proj(x), dim=-1)\n",
    "\n",
    "def clones(module, N):\n",
    "    \"Produce N identical layers.\"\n",
    "    return nn.ModuleList([copy.deepcopy(module) for _ in range(N)])\n",
    "\n",
    "\n",
    "\n",
    "class LayerNorm(nn.Module):\n",
    "    \"Construct a layernorm module (See citation for details).\"\n",
    "    def __init__(self, features, eps=1e-6):\n",
    "        super(LayerNorm, self).__init__()\n",
    "        self.a_2 = nn.Parameter(torch.ones(features))\n",
    "        self.b_2 = nn.Parameter(torch.zeros(features))\n",
    "        self.eps = eps\n",
    "\n",
    "    def forward(self, x):\n",
    "        mean = x.mean(-1, keepdim=True)\n",
    "        std = x.std(-1, keepdim=True)\n",
    "        return self.a_2 * (x - mean) / (std + self.eps) + self.b_2\n",
    "\n",
    "class SublayerConnection(nn.Module):\n",
    "    \"\"\"\n",
    "    A residual connection followed by a layer norm.\n",
    "    Note for code simplicity the norm is first as opposed to last.\n",
    "    \"\"\"\n",
    "    def __init__(self, size, dropout):\n",
    "        super(SublayerConnection, self).__init__()\n",
    "        self.norm = LayerNorm(size)\n",
    "        self.dropout = nn.Dropout(dropout)\n",
    "\n",
    "    def forward(self, x, sublayer):\n",
    "        \"Apply residual connection to any sublayer with the same size.\"\n",
    "        return x + self.dropout(sublayer(self.norm(x)))\n",
    "\n",
    "class EncoderLayer(nn.Module):\n",
    "    \"Encoder is made up of self-attn and feed forward (defined below)\"\n",
    "    def __init__(self, size, self_attn, feed_forward, dropout):\n",
    "        super(EncoderLayer, self).__init__()\n",
    "        self.self_attn = self_attn\n",
    "        self.feed_forward = feed_forward\n",
    "        self.sublayer = clones(SublayerConnection(size, dropout), 2)\n",
    "        self.size = size\n",
    "\n",
    "    def forward(self, x, mask):\n",
    "        \"Follow Figure 1 (left) for connections.\"\n",
    "        x = self.sublayer[0](x, lambda x: self.self_attn(x, x, x, mask))\n",
    "        return self.sublayer[1](x, self.feed_forward)\n",
    "\n",
    "class Encoder(nn.Module):\n",
    "    \"Core encoder is a stack of N layers\"\n",
    "    def __init__(self, layer, N):\n",
    "        super(Encoder, self).__init__()\n",
    "        self.layers = clones(layer, N)\n",
    "        self.norm = LayerNorm(layer.size)\n",
    "        \n",
    "    def forward(self, x, mask):\n",
    "        \"Pass the input (and mask) through each layer in turn.\"\n",
    "        for layer in self.layers:\n",
    "            x = layer(x, mask)\n",
    "        return self.norm(x)\n",
    "\n",
    "class Decoder(nn.Module):\n",
    "    \"Generic N layer decoder with masking.\"\n",
    "    def __init__(self, layer, N):\n",
    "        super(Decoder, self).__init__()\n",
    "        self.layers = clones(layer, N)\n",
    "        self.norm = LayerNorm(layer.size)\n",
    "\n",
    "    #x      : decoder input\n",
    "    #memory : output of encoder\n",
    "    def forward(self, x, memory, src_mask, tgt_mask):\n",
    "        for layer in self.layers:\n",
    "            x = layer(x, memory, src_mask, tgt_mask)\n",
    "        return self.norm(x)\n",
    "\n",
    "class DecoderLayer(nn.Module):\n",
    "    \"Decoder is made of self-attn, src-attn, and feed forward (defined below)\"\n",
    "    def __init__(self, size, self_attn, src_attn, feed_forward, dropout):\n",
    "        super(DecoderLayer, self).__init__()\n",
    "        self.size = size\n",
    "        self.self_attn = self_attn\n",
    "        self.src_attn = src_attn\n",
    "        self.feed_forward = feed_forward\n",
    "        self.sublayer = clones(SublayerConnection(size, dropout), 3)\n",
    " \n",
    "    def forward(self, x, memory, src_mask, tgt_mask):\n",
    "        \"Follow Figure 1 (right) for connections.\"\n",
    "        m = memory\n",
    "        x = self.sublayer[0](x, lambda x: self.self_attn(x, x, x, tgt_mask))\n",
    "        #print(\"m.shape : \", m.shape)\n",
    "        #print(\"x.shape : \", x.shape)\n",
    "        x = self.sublayer[1](x, lambda x: self.src_attn(x, m, m, src_mask))\n",
    "        return self.sublayer[2](x, self.feed_forward)\n",
    "\n",
    "def subsequent_mask(size):\n",
    "    \"Mask out subsequent positions.\"\n",
    "    attn_shape = (1, size, size)\n",
    "    subsequent_mask = np.triu(np.ones(attn_shape), k=1).astype('uint8')\n",
    "    return torch.from_numpy(subsequent_mask) == 0\n",
    "\n",
    "\n",
    "def attention(query, key, value, mask=None, dropout=None):\n",
    "    \"Compute 'Scaled Dot Product Attention'\"\n",
    "    d_k = query.size(-1)\n",
    "    scores = torch.matmul(query, key.transpose(-2, -1)) \\\n",
    "             / math.sqrt(d_k)\n",
    "    if mask is not None:\n",
    "        scores = scores.masked_fill(mask == 0, -1e9)\n",
    "    p_attn = F.softmax(scores, dim = -1)\n",
    "    if dropout is not None:\n",
    "        p_attn = dropout(p_attn)\n",
    "    return torch.matmul(p_attn, value), p_attn\n",
    "\n",
    "class MultiHeadedAttention(nn.Module):\n",
    "    def __init__(self, h, d_model, dropout=0.1):\n",
    "        \"Take in model size and number of heads.\"\n",
    "        super(MultiHeadedAttention, self).__init__()\n",
    "        assert d_model % h == 0\n",
    "        # We assume d_v always equals d_k\n",
    "        self.d_k = d_model // h\n",
    "        self.h = h\n",
    "        self.linears = clones(nn.Linear(d_model, d_model), 4)\n",
    "        self.attn = None\n",
    "        self.dropout = nn.Dropout(p=dropout)\n",
    "        \n",
    "    def forward(self, query, key, value, mask=None):\n",
    "        \"Implements Figure 2\"\n",
    "        if mask is not None:\n",
    "            # Same mask applied to all h heads.\n",
    "            mask = mask.unsqueeze(1)\n",
    "        nbatches = query.size(0)\n",
    "        \n",
    "        # 1) Do all the linear projections in batch from d_model => h x d_k \n",
    "        query, key, value = \\\n",
    "            [l(x).view(nbatches, -1, self.h, self.d_k).transpose(1, 2)\n",
    "             for l, x in zip(self.linears, (query, key, value))]\n",
    "        \n",
    "        # 2) Apply attention on all the projected vectors in batch. \n",
    "        x, self.attn = attention(query, key, value, mask=mask, \n",
    "                                 dropout=self.dropout)\n",
    "        \n",
    "        # 3) \"Concat\" using a view and apply a final linear. \n",
    "        x = x.transpose(1, 2).contiguous() \\\n",
    "             .view(nbatches, -1, self.h * self.d_k)\n",
    "        return self.linears[-1](x)\n",
    "\n",
    "class PositionwiseFeedForward(nn.Module):\n",
    "    \"Implements FFN equation.\"\n",
    "    def __init__(self, d_model, d_ff, dropout=0.1):\n",
    "        super(PositionwiseFeedForward, self).__init__()\n",
    "        self.w_1 = nn.Linear(d_model, d_ff)\n",
    "        self.w_2 = nn.Linear(d_ff, d_model)\n",
    "        self.dropout = nn.Dropout(dropout)\n",
    "\n",
    "    def forward(self, x):\n",
    "        return self.w_2(self.dropout(F.relu(self.w_1(x))))\n",
    "\n",
    "class Embeddings(nn.Module):\n",
    "    def __init__(self, d_model, vocab):\n",
    "        super(Embeddings, self).__init__()\n",
    "        self.lut = nn.Embedding(vocab, d_model)\n",
    "        self.d_model = d_model\n",
    "    #x.shape = (batch_size, sequence_len)\n",
    "    def forward(self, x):\n",
    "        return self.lut(x) * math.sqrt(self.d_model)\n",
    "\n",
    "class PositionalEncoding(nn.Module):\n",
    "    \"Implement the PE function.\"\n",
    "    def __init__(self, d_model, dropout, max_len=5000):\n",
    "        super(PositionalEncoding, self).__init__()\n",
    "        self.dropout = nn.Dropout(p=dropout)\n",
    "        \n",
    "        # Compute the positional encodings once in log space.\n",
    "        pe = torch.zeros(max_len, d_model)\n",
    "        position = torch.arange(0, max_len).unsqueeze(1)\n",
    "        div_term = torch.exp(torch.arange(0, d_model, 2) *\n",
    "                             -(math.log(10000.0) / d_model))\n",
    "        pe[:, 0::2] = torch.sin(position * div_term)\n",
    "        pe[:, 1::2] = torch.cos(position * div_term)\n",
    "        pe = pe.unsqueeze(0)\n",
    "        self.register_buffer('pe', pe)\n",
    "        \n",
    "    def forward(self, x):\n",
    "        x = x + Variable(self.pe[:, :x.size(1)], \n",
    "                         requires_grad=False)\n",
    "        return self.dropout(x)\n",
    "\n",
    "\n",
    "def make_model(src_vocab, tgt_vocab, N=6, \n",
    "               d_model=512, d_ff=2048, h=8, dropout=0.1):\n",
    "    \"Helper: Construct a model from hyperparameters.\"\n",
    "    c = copy.deepcopy\n",
    "    attn = MultiHeadedAttention(h, d_model)\n",
    "    ff = PositionwiseFeedForward(d_model, d_ff, dropout)\n",
    "    position = PositionalEncoding(d_model, dropout)\n",
    "    model = EncoderDecoder(\n",
    "        Encoder(EncoderLayer(d_model, c(attn), c(ff), dropout), N),\n",
    "        Decoder(DecoderLayer(d_model, c(attn), c(attn), \n",
    "                             c(ff), dropout), N),\n",
    "        nn.Sequential(Embeddings(d_model, src_vocab), c(position)),\n",
    "        nn.Sequential(Embeddings(d_model, tgt_vocab), c(position)),\n",
    "        Generator(d_model, tgt_vocab))\n",
    "    \n",
    "    # This was important from their code. \n",
    "    # Initialize parameters with Glorot / fan_avg.\n",
    "    for p in model.parameters():\n",
    "        if p.dim() > 1:\n",
    "            nn.init.xavier_uniform(p)\n",
    "    return model\n"
   ]
  },
  {
   "cell_type": "markdown",
   "id": "edd631f9-c5da-4429-98d5-589a1d519083",
   "metadata": {},
   "source": [
    "\n",
    "![](../images/the-annotated-transformer_14_0.png)\n",
    "\n",
    "\n",
    "\n",
    "Figure 1: The Transformer - model architecture."
   ]
  },
  {
   "cell_type": "code",
   "execution_count": 3,
   "id": "a241340b-430e-4625-a82d-25e3688d8a8a",
   "metadata": {},
   "outputs": [],
   "source": [
    "#hyper-parameter\n",
    "V = 10\n",
    "N=2\n",
    "n_src_vocab = V\n",
    "n_tgt_vocab = V\n",
    "d_ff = 2048\n",
    "d_model=512\n",
    "d_ff=2048\n",
    "h=8\n",
    "dropout=0.1"
   ]
  },
  {
   "cell_type": "markdown",
   "id": "58f4fb63-35ea-48f5-93d0-536bc35b3e13",
   "metadata": {},
   "source": [
    "## Full Model"
   ]
  },
  {
   "cell_type": "code",
   "execution_count": 4,
   "id": "669d2bf7-3455-4c85-afd2-e984912f53f1",
   "metadata": {},
   "outputs": [
    {
     "name": "stderr",
     "output_type": "stream",
     "text": [
      "/tmp/ipykernel_13821/4216612923.py:240: UserWarning: nn.init.xavier_uniform is now deprecated in favor of nn.init.xavier_uniform_.\n",
      "  nn.init.xavier_uniform(p)\n"
     ]
    }
   ],
   "source": [
    "tmp_model = make_model(n_src_vocab, n_tgt_vocab, N)"
   ]
  },
  {
   "cell_type": "markdown",
   "id": "a9cf1c8b-3f10-4408-b66a-8cb93f1044ed",
   "metadata": {},
   "source": [
    "## Training\n",
    "This section describes the training regime for our models.  \n",
    "\n",
    "We stop for a quick interlude to introduce some of the tools needed to train  \n",
    "a standard encoder decoder model. First we define a batch object   \n",
    "that holds the src and target sentences for training, as well as constructing the masks."
   ]
  },
  {
   "cell_type": "markdown",
   "id": "46fbab10-e436-4fbe-987e-19786e66e0b4",
   "metadata": {},
   "source": [
    "## Batches and Masking"
   ]
  },
  {
   "cell_type": "code",
   "execution_count": 5,
   "id": "b663d33f-9f46-4a26-9426-d74c58d2e8f9",
   "metadata": {},
   "outputs": [],
   "source": [
    "class Batch:\n",
    "    \"Object for holding a batch of data with mask during training.\"\n",
    "    def __init__(self, src, trg=None, pad=0):\n",
    "        self.src = src\n",
    "        self.src_mask = (src != pad).unsqueeze(-2)\n",
    "        if trg is not None:\n",
    "            self.trg = trg[:, :-1]\n",
    "            self.trg_y = trg[:, 1:]\n",
    "            self.trg_mask = \\\n",
    "                self.make_std_mask(self.trg, pad)\n",
    "            self.ntokens = (self.trg_y != pad).data.sum()\n",
    "    \n",
    "    @staticmethod\n",
    "    def make_std_mask(tgt, pad):\n",
    "        \"Create a mask to hide padding and future words.\"\n",
    "        tgt_mask = (tgt != pad).unsqueeze(-2)\n",
    "        #print('tgt_mask.shape', tgt_mask.shape)\n",
    "        #print('tgt_mask', tgt_mask)\n",
    "        tgt_mask = tgt_mask & Variable(\n",
    "            subsequent_mask(tgt.size(-1)).type_as(tgt_mask.data))\n",
    "        return tgt_mask"
   ]
  },
  {
   "cell_type": "markdown",
   "id": "7b64b0e0-3290-4e53-86e2-40b192de1b57",
   "metadata": {},
   "source": [
    "> Next we create a generic training and scoring function to keep track of loss. We pass in a generic loss  compute function that also handles parameter updates."
   ]
  },
  {
   "cell_type": "markdown",
   "id": "dc8aba79-f272-4aa3-96d0-460d52ec5e5c",
   "metadata": {},
   "source": [
    "## Training Loop"
   ]
  },
  {
   "cell_type": "code",
   "execution_count": 6,
   "id": "58be4212-ce8c-4de2-9f5d-ae8b85772564",
   "metadata": {},
   "outputs": [],
   "source": [
    "def run_epoch(data_iter, model, loss_compute):\n",
    "    \"Standard Training and Logging Function\"\n",
    "    start = time.time()\n",
    "    total_tokens = 0\n",
    "    total_loss = 0\n",
    "    tokens = 0\n",
    "    for i, batch in enumerate(data_iter):\n",
    "        out = model.forward(batch.src, batch.trg, \n",
    "                            batch.src_mask, batch.trg_mask)\n",
    "        print(f'trg_y.shape: {batch.trg_y.shape}')\n",
    "        loss = loss_compute(out, batch.trg_y, batch.ntokens)\n",
    "        total_loss += loss\n",
    "        total_tokens += batch.ntokens\n",
    "        tokens += batch.ntokens\n",
    "        if i % 50 == 1:\n",
    "            elapsed = time.time() - start\n",
    "            print(\"Epoch Step: %d Loss: %f Tokens per Sec: %f\" %\n",
    "                    (i, loss / batch.ntokens, tokens / elapsed))\n",
    "            start = time.time()\n",
    "            tokens = 0\n",
    "    return total_loss / total_tokens"
   ]
  },
  {
   "cell_type": "markdown",
   "id": "0a21860c-a19b-4d13-b489-c2306ab3348f",
   "metadata": {},
   "source": [
    "## Optimizer \n",
    "\n",
    "우리는 Adam 옵티마이저 ([논문 인용](https://arxiv.org/abs/1412.6980))을 사용했으며,    \n",
    "`β₁ = 0.9, β₂ = 0.98, ε = 10⁻⁹`로 설정했습니다.\n",
    "\n",
    "**사용예:**    \n",
    "``` python\n",
    "model_opt = NoamOpt(model.src_embed[0].d_model, 1, 400,\n",
    "        torch.optim.Adam(model.parameters(), lr=0, betas=(0.9, 0.98), eps=1e-9))\n",
    "```\n",
    "\n",
    "학습률은 다음 수식에 따라 학습 과정 중 변화시켰습니다:\n",
    "\n",
    "$$learning\\_rate = \\frac{1}{\\sqrt{d_{model}}} * \\text{min}(\\frac{1}{\\sqrt{{step\\_num}}}, \\frac{step\\_num}{warmup\\_steps^{1.5}})$$\n",
    "\n",
    "이 수식은 학습 초기에 warmup_steps 동안 학습률을 선형적으로 증가시키고,   \n",
    "이후에는 학습 스텝 수의 역제곱근에 비례하여 감소시키는 방식입니다.  \n",
    "우리는 warmup_steps = 4000으로 설정했습니다.  \n",
    "> Note: This part is very important. Need to train with this setup of the model."
   ]
  },
  {
   "cell_type": "code",
   "execution_count": 7,
   "id": "2b8b1b20-acea-43f6-bd50-fa8717d6d096",
   "metadata": {},
   "outputs": [],
   "source": [
    "class NoamOpt:\n",
    "    \"Optim wrapper that implements rate.\"\n",
    "    def __init__(self, model_size, factor, warmup, optimizer):\n",
    "        self.optimizer = optimizer\n",
    "        self._step = 0\n",
    "        self.warmup = warmup\n",
    "        self.factor = factor\n",
    "        self.model_size = model_size\n",
    "        self._rate = 0\n",
    "        \n",
    "    def step(self):\n",
    "        \"Update parameters and rate\"\n",
    "        self._step += 1\n",
    "        rate = self.rate()\n",
    "        for p in self.optimizer.param_groups:\n",
    "            p['lr'] = rate\n",
    "        self._rate = rate\n",
    "        self.optimizer.step()\n",
    "        \n",
    "    def rate(self, step = None):\n",
    "        \"Implement `lrate` above\"\n",
    "        if step is None:\n",
    "            step = self._step\n",
    "        return self.factor * \\\n",
    "            (self.model_size ** (-0.5) *\n",
    "            min(step ** (-0.5), step * self.warmup ** (-1.5)))\n",
    "        \n",
    "def get_std_opt(model):\n",
    "    return NoamOpt(model.src_embed[0].d_model, 2, 4000,\n",
    "            torch.optim.Adam(model.parameters(), lr=0, betas=(0.9, 0.98), eps=1e-9))"
   ]
  },
  {
   "cell_type": "markdown",
   "id": "80b76409-27f0-4817-97ef-9655dac5d680",
   "metadata": {},
   "source": [
    "> Example of the curves of this model for different model sizes and for optimization hyperparameters."
   ]
  },
  {
   "cell_type": "code",
   "execution_count": 8,
   "id": "e95382e5-0549-4c0d-a5aa-a2b5a03d7a0a",
   "metadata": {
    "scrolled": true
   },
   "outputs": [
    {
     "data": {
      "image/png": "[encoded data removed]",
      "text/plain": [
       "<Figure size 640x480 with 1 Axes>"
      ]
     },
     "metadata": {},
     "output_type": "display_data"
    }
   ],
   "source": [
    "# Three settings of the lrate hyperparameters.\n",
    "opts = [NoamOpt(512, 1, 4000, None), \n",
    "        NoamOpt(512, 1, 8000, None),\n",
    "        NoamOpt(256, 1, 4000, None)]\n",
    "plt.plot(np.arange(1, 20000), [[opt.rate(i) for opt in opts] for i in range(1, 20000)])\n",
    "plt.legend([\"512:4000\", \"512:8000\", \"256:4000\"])\n",
    "None"
   ]
  },
  {
   "cell_type": "markdown",
   "id": "89e8ab0b-0890-45e3-ae54-888c7783408b",
   "metadata": {},
   "source": [
    "## **Regularization**\n",
    "### Label Smoothing\n",
    "\n",
    "During training, we employed label smoothing of value $\\epsilon_{ls}=0.1$  \n",
    "This hurts perplexity, as the model learns to be more unsure, but improves accuracy and BLEU score.\n",
    "\n",
    "> We implement label smoothing using the KL div loss. Instead of using a one-hot target distribution,   \n",
    "we create a distribution that has confidence of the correct word and the rest of the smoothing mass   \n",
    "distributed throughout the vocabulary."
   ]
  },
  {
   "cell_type": "code",
   "execution_count": 9,
   "id": "1614c577-e2c4-4884-99cf-924f29e266bd",
   "metadata": {},
   "outputs": [],
   "source": [
    "class LabelSmoothing(nn.Module):\n",
    "    \"Implement label smoothing.\"\n",
    "    def __init__(self, size, padding_idx, smoothing=0.0):\n",
    "        super(LabelSmoothing, self).__init__()\n",
    "        self.criterion = nn.KLDivLoss(size_average=False)\n",
    "        self.padding_idx = padding_idx\n",
    "        self.confidence = 1.0 - smoothing\n",
    "        self.smoothing = smoothing\n",
    "        self.size = size\n",
    "        self.true_dist = None\n",
    "        \n",
    "    def forward(self, x, target):\n",
    "        #print(f'x.shape:{x.shape}, target.shape:{target.shape}')\n",
    "        #print(f'target:{target}')\n",
    "        assert x.size(1) == self.size\n",
    "        true_dist = x.data.clone()\n",
    "        true_dist.fill_(self.smoothing / (self.size - 2))\n",
    "        true_dist.scatter_(1, target.data.unsqueeze(1), self.confidence)\n",
    "        true_dist[:, self.padding_idx] = 0 #padding postion = 0\n",
    "        #print(f\"target shape : {true_dist.shape}\")\n",
    "        mask = torch.nonzero(target == self.padding_idx)\n",
    "        #print(\"mask: \", mask, mask.dim())\n",
    "        if mask.shape[0] > 0:\n",
    "            #print(\"padding\")\n",
    "            true_dist.index_fill_(0, mask.squeeze(), 0.0)\n",
    "        self.true_dist = true_dist\n",
    "        #print(true_dist)\n",
    "        return self.criterion(x,true_dist)"
   ]
  },
  {
   "cell_type": "markdown",
   "id": "54701c19-3e75-4819-ab12-58de3a60d2dc",
   "metadata": {},
   "source": [
    "> Here we can see an example of how the mass is distributed to the words based on confidence."
   ]
  },
  {
   "cell_type": "code",
   "execution_count": 10,
   "id": "7ec95a08-ec60-46e5-a066-9ed6f42d0dfa",
   "metadata": {},
   "outputs": [
    {
     "name": "stderr",
     "output_type": "stream",
     "text": [
      "/usr/local/lib/python3.8/dist-packages/torch/nn/_reduction.py:42: UserWarning: size_average and reduce args will be deprecated, please use reduction='sum' instead.\n",
      "  warnings.warn(warning.format(ret))\n"
     ]
    },
    {
     "data": {
      "image/png": "[encoded data removed]",
      "text/plain": [
       "<Figure size 640x480 with 1 Axes>"
      ]
     },
     "metadata": {},
     "output_type": "display_data"
    }
   ],
   "source": [
    "# Example of label smoothing.\n",
    "crit = LabelSmoothing(5, 0, 0.4)\n",
    "predict = torch.FloatTensor([[0, 0.2, 0.7, 0.1, 0],\n",
    "                             [0, 0.2, 0.7, 0.1, 0], \n",
    "                             [0, 0.2, 0.7, 0.1, 0]])\n",
    "v = crit(Variable(predict.log()), \n",
    "         Variable(torch.LongTensor([2, 1, 0])))\n",
    "\n",
    "# Show the target distributions expected by the system.\n",
    "plt.imshow(crit.true_dist)\n",
    "None"
   ]
  },
  {
   "cell_type": "markdown",
   "id": "33abf2ec-c3eb-436e-b37e-0979b4a001e4",
   "metadata": {},
   "source": [
    "> Label smoothing actually starts to penalize the model if it gets very confident about a given choice."
   ]
  },
  {
   "cell_type": "code",
   "execution_count": 11,
   "id": "8b40a14b-4ec7-4f97-a7ee-12fa78af8af8",
   "metadata": {},
   "outputs": [
    {
     "data": {
      "image/png": "[encoded data removed]",
      "text/plain": [
       "<Figure size 640x480 with 1 Axes>"
      ]
     },
     "metadata": {},
     "output_type": "display_data"
    }
   ],
   "source": [
    "crit = LabelSmoothing(5, 0, 0.1)\n",
    "def loss(x):\n",
    "    d = x + 4 * 1\n",
    "    predict = torch.FloatTensor([[1/d, x / d, 1 / d, 1 / d, 1 / d],\n",
    "                                 ])\n",
    "    #print(predict)\n",
    "    return crit(Variable(predict.log()),\n",
    "                 Variable(torch.LongTensor([1]))).item()\n",
    "plt.plot(np.arange(1, 100), [loss(x) for x in range(1, 100)])\n",
    "None"
   ]
  },
  {
   "cell_type": "markdown",
   "id": "0539362c-afd2-4740-be99-b814bd222cb6",
   "metadata": {},
   "source": [
    "## A First Example\n",
    "> We can begin by tring out a smple copy-task. Given a random set of input symbols from a small\n",
    "> Vocabulary, the goal is to generate back those same symbols."
   ]
  },
  {
   "cell_type": "markdown",
   "id": "845b89a6-7f1b-4e27-bc8f-afdc8e7c6017",
   "metadata": {},
   "source": [
    "## Synthetic Data"
   ]
  },
  {
   "cell_type": "code",
   "execution_count": 12,
   "id": "e9cec9ea-bad6-44a9-be13-3c74063d5e44",
   "metadata": {},
   "outputs": [],
   "source": [
    "def data_gen(V, batch, nbatches):\n",
    "    \"Generate random data for a src-tgt copy task.\"\n",
    "    for i in range(nbatches):\n",
    "        data = torch.from_numpy(np.random.randint(1, V, size=(batch, 10)))\n",
    "        data[:, 0] = 1\n",
    "        src = Variable(data, requires_grad=False)\n",
    "        tgt = Variable(data, requires_grad=False)\n",
    "        yield Batch(src, tgt, 0)"
   ]
  },
  {
   "cell_type": "markdown",
   "id": "d4d19780-3279-42c2-a86f-059ce94b52ed",
   "metadata": {},
   "source": [
    "## Loss Computation"
   ]
  },
  {
   "cell_type": "code",
   "execution_count": 13,
   "id": "515d5a00-a793-4ea0-beff-7a3154c33301",
   "metadata": {},
   "outputs": [],
   "source": [
    "class SimpleLossCompute:\n",
    "    \"A simple loss compute and train function.\"\n",
    "    def __init__(self, generator, criterion, opt=None):\n",
    "        self.generator = generator\n",
    "        self.criterion = criterion\n",
    "        self.opt = opt\n",
    "        \n",
    "    def __call__(self, x, y, norm):\n",
    "        #print(f\"output x shape :{x.shape} norm: {norm}\")\n",
    "        x = self.generator(x)\n",
    "        #print(f\"final x shape :{x.shape}\")\n",
    "        #averaging\n",
    "        loss = self.criterion(x.contiguous().view(-1, x.size(-1)), \n",
    "                              y.contiguous().view(-1)) / norm\n",
    "        loss.backward()\n",
    "        if self.opt is not None:\n",
    "            self.opt.step()\n",
    "            self.opt.optimizer.zero_grad()\n",
    "        return loss * norm"
   ]
  },
  {
   "cell_type": "markdown",
   "id": "f4059a4f-f71e-4db9-a224-28a6adfa62e5",
   "metadata": {},
   "source": [
    "## Greedy Decoding"
   ]
  },
  {
   "cell_type": "markdown",
   "id": "0f5ec78f-ebfb-4ffd-bac0-b38cb1a68886",
   "metadata": {},
   "source": [
    "- Greedy decoding은 Transformer 디코더에서 문장을 생성할 때,  \n",
    "  매 단계에서 가장 확률이 높은 단어만 선택해서 문장을 만드는 방식입니다. \n",
    "- The Annotated Transformer에서는 greedy_decode() 함수에서 구현되어 있습니다.\n",
    "- 예측한 토큰을 디코더에 다시 넣고 반복하며 시퀀스를 생성합니다.\n",
    "- 빠르지만 탐욕적(greedy) 이기 때문에 항상 최적의 문장을 생성하지는 않습니다\n",
    "---\n",
    "\n",
    "** 특징과 한계**  \n",
    "|항목|\t설명|\n",
    "-----|------|\n",
    "|장점|\t빠르고 간단하며 구현이 쉬움|\n",
    "|단점|\t전역 최적해(global optimum)를 보장하지 않음. 처음 선택이 틀리면 회복 불가|\n",
    "|비교|\tBeam Search보다 성능이 낮지만 속도는 더 빠름|"
   ]
  },
  {
   "cell_type": "code",
   "execution_count": 14,
   "id": "c6bc1d4c-667f-4d10-9e6a-cdc784c239ff",
   "metadata": {},
   "outputs": [],
   "source": [
    "def run_epoch(data_iter, model, loss_compute):\n",
    "    \"Standard Training and Logging Function\"\n",
    "    start = time.time()\n",
    "    total_tokens = 0\n",
    "    total_loss = 0\n",
    "    tokens = 0\n",
    "    for i, batch in enumerate(data_iter):\n",
    "        out = model.forward(batch.src, batch.trg, \n",
    "                            batch.src_mask, batch.trg_mask)\n",
    "        #print(f'trg_y.shape: {batch.trg_y.shape}')\n",
    "        loss = loss_compute(out, batch.trg_y, batch.ntokens)\n",
    "        total_loss += loss\n",
    "        total_tokens += batch.ntokens\n",
    "        tokens += batch.ntokens\n",
    "        if i % 50 == 1:\n",
    "            elapsed = time.time() - start\n",
    "            print(\"Epoch Step: %d Loss: %f Tokens per Sec: %f\" %\n",
    "                    (i, loss / batch.ntokens, tokens / elapsed))\n",
    "            start = time.time()\n",
    "            tokens = 0\n",
    "    return total_loss / total_tokens"
   ]
  },
  {
   "cell_type": "code",
   "execution_count": 15,
   "id": "0ec80ec5-c377-4ff3-8cef-570afa2d8022",
   "metadata": {},
   "outputs": [
    {
     "name": "stderr",
     "output_type": "stream",
     "text": [
      "/tmp/ipykernel_13821/4216612923.py:240: UserWarning: nn.init.xavier_uniform is now deprecated in favor of nn.init.xavier_uniform_.\n",
      "  nn.init.xavier_uniform(p)\n"
     ]
    },
    {
     "name": "stdout",
     "output_type": "stream",
     "text": [
      "Epoch Step: 1 Loss: 3.437773 Tokens per Sec: 1332.515259\n",
      "Epoch Step: 1 Loss: 1.922881 Tokens per Sec: 2336.129395\n",
      "tensor(1.9751, grad_fn=<DivBackward0>)\n",
      "Epoch Step: 1 Loss: 1.990017 Tokens per Sec: 1810.822388\n",
      "Epoch Step: 1 Loss: 1.630767 Tokens per Sec: 2211.138184\n",
      "tensor(1.6381, grad_fn=<DivBackward0>)\n",
      "Epoch Step: 1 Loss: 1.808302 Tokens per Sec: 1643.620728\n",
      "Epoch Step: 1 Loss: 1.403281 Tokens per Sec: 2321.144531\n",
      "tensor(1.4036, grad_fn=<DivBackward0>)\n",
      "Epoch Step: 1 Loss: 1.800757 Tokens per Sec: 1794.727173\n",
      "Epoch Step: 1 Loss: 1.201273 Tokens per Sec: 2334.220215\n",
      "tensor(1.2658, grad_fn=<DivBackward0>)\n",
      "Epoch Step: 1 Loss: 1.422200 Tokens per Sec: 1799.078125\n",
      "Epoch Step: 1 Loss: 1.005549 Tokens per Sec: 2348.992188\n",
      "tensor(1.0779, grad_fn=<DivBackward0>)\n",
      "Epoch Step: 1 Loss: 1.181157 Tokens per Sec: 1704.204956\n",
      "Epoch Step: 1 Loss: 0.670202 Tokens per Sec: 2337.373291\n",
      "tensor(0.6307, grad_fn=<DivBackward0>)\n",
      "Epoch Step: 1 Loss: 1.077570 Tokens per Sec: 1795.051514\n",
      "Epoch Step: 1 Loss: 0.507530 Tokens per Sec: 2232.591797\n",
      "tensor(0.4952, grad_fn=<DivBackward0>)\n",
      "Epoch Step: 1 Loss: 0.730033 Tokens per Sec: 1721.115356\n",
      "Epoch Step: 1 Loss: 0.390447 Tokens per Sec: 2290.282227\n",
      "tensor(0.4174, grad_fn=<DivBackward0>)\n",
      "Epoch Step: 1 Loss: 0.592408 Tokens per Sec: 1703.772949\n",
      "Epoch Step: 1 Loss: 0.206305 Tokens per Sec: 2478.566650\n",
      "tensor(0.2812, grad_fn=<DivBackward0>)\n",
      "Epoch Step: 1 Loss: 0.401788 Tokens per Sec: 1896.214722\n",
      "Epoch Step: 1 Loss: 0.196231 Tokens per Sec: 2116.039551\n",
      "tensor(0.2409, grad_fn=<DivBackward0>)\n"
     ]
    }
   ],
   "source": [
    "# Train the simple copy task.\n",
    "V = 11\n",
    "criterion = LabelSmoothing(size=V, padding_idx=0, smoothing=0.0)\n",
    "model = make_model(V, V, N=2)\n",
    "model_opt = NoamOpt(model.src_embed[0].d_model, 1, 400,\n",
    "        torch.optim.Adam(model.parameters(), lr=0, betas=(0.9, 0.98), eps=1e-9))\n",
    "for epoch in range(10):\n",
    "    model.train()\n",
    "    run_epoch(data_gen(V, 30, 20), model, \n",
    "              SimpleLossCompute(model.generator, criterion, model_opt))\n",
    "    model.eval()\n",
    "    print(run_epoch(data_gen(V, 30, 5), model, \n",
    "                   SimpleLossCompute(model.generator, criterion, None)))"
   ]
  },
  {
   "cell_type": "markdown",
   "id": "f9acc96a-73b3-49ab-b9c5-ae4f6c5bdaa0",
   "metadata": {},
   "source": [
    "\n",
    "greedy_decode에서 `prob = model.generator(out[:, -1])`의 의미는 ?\n",
    "\n",
    "**out[:, -1])** 는 출력 token sequece에서 항상 마지막 tocken을 의미함. \n",
    "\n",
    "input : [1.2] -> out [1.2]이 나오고  \n",
    "out[:,-1]는 '2'를 의미함.  \n",
    "정확하게 `2`의 값을 가진 vocab 차원의 벡터값임. (여기서선 1x11 shape)   "
   ]
  },
  {
   "cell_type": "code",
   "execution_count": 20,
   "id": "043cb9e6-90f9-445a-b1f1-7849727d27b5",
   "metadata": {},
   "outputs": [
    {
     "name": "stdout",
     "output_type": "stream",
     "text": [
      "tensor([[1]])\n",
      "out shape: torch.Size([1, 1, 512])\n",
      "out[:-1] shape: torch.Size([1, 512])\n",
      "prob shape: torch.Size([1, 11])\n",
      "tensor([[1, 2]])\n",
      "out shape: torch.Size([1, 2, 512])\n",
      "out[:-1] shape: torch.Size([1, 512])\n",
      "prob shape: torch.Size([1, 11])\n",
      "tensor([[1, 2, 3]])\n",
      "out shape: torch.Size([1, 3, 512])\n",
      "out[:-1] shape: torch.Size([1, 512])\n",
      "prob shape: torch.Size([1, 11])\n",
      "tensor([[1, 2, 3, 5]])\n",
      "out shape: torch.Size([1, 4, 512])\n",
      "out[:-1] shape: torch.Size([1, 512])\n",
      "prob shape: torch.Size([1, 11])\n",
      "tensor([[1, 2, 3, 5, 4]])\n",
      "out shape: torch.Size([1, 5, 512])\n",
      "out[:-1] shape: torch.Size([1, 512])\n",
      "prob shape: torch.Size([1, 11])\n",
      "tensor([[1, 2, 3, 5, 4, 6]])\n",
      "out shape: torch.Size([1, 6, 512])\n",
      "out[:-1] shape: torch.Size([1, 512])\n",
      "prob shape: torch.Size([1, 11])\n",
      "tensor([[1, 2, 3, 5, 4, 6, 5]])\n",
      "out shape: torch.Size([1, 7, 512])\n",
      "out[:-1] shape: torch.Size([1, 512])\n",
      "prob shape: torch.Size([1, 11])\n",
      "tensor([[1, 2, 3, 5, 4, 6, 5, 8]])\n",
      "out shape: torch.Size([1, 8, 512])\n",
      "out[:-1] shape: torch.Size([1, 512])\n",
      "prob shape: torch.Size([1, 11])\n",
      "tensor([[1, 2, 3, 5, 4, 6, 5, 8, 9]])\n",
      "out shape: torch.Size([1, 9, 512])\n",
      "out[:-1] shape: torch.Size([1, 512])\n",
      "prob shape: torch.Size([1, 11])\n",
      "tensor([[ 1,  2,  3,  5,  4,  6,  5,  8,  9, 10]])\n"
     ]
    }
   ],
   "source": [
    "def greedy_decode(model, src, src_mask, max_len, start_symbol):\n",
    "    memory = model.encode(src, src_mask)\n",
    "    ys = torch.ones(1, 1).fill_(start_symbol).type_as(src.data)\n",
    "    for i in range(max_len-1):\n",
    "        print(ys)\n",
    "        out = model.decode(memory, src_mask, \n",
    "                           Variable(ys), \n",
    "                           Variable(subsequent_mask(ys.size(1))\n",
    "                                    .type_as(src.data)))\n",
    "        print(f\"out shape: {out.shape}\")\n",
    "        print(f\"out[:-1] shape: {out[:, -1].shape}\")\n",
    "        prob = model.generator(out[:, -1])\n",
    "        print(f\"prob shape: {prob.shape}\")\n",
    "        _, next_word = torch.max(prob, dim = 1)\n",
    "        next_word = next_word.data[0]\n",
    "        ys = torch.cat([ys, \n",
    "                        torch.ones(1, 1).type_as(src.data).fill_(next_word)], dim=1)\n",
    "    return ys\n",
    "\n",
    "model.eval()\n",
    "src = Variable(torch.LongTensor([[1,2,3,4,5,6,7,8,9,10]]) )\n",
    "src_mask = Variable(torch.ones(1, 1, 10) )\n",
    "print(greedy_decode(model, src, src_mask, max_len=10, start_symbol=1))"
   ]
  }
 ],
 "metadata": {
  "kernelspec": {
   "display_name": "Python 3 (ipykernel)",
   "language": "python",
   "name": "python3"
  },
  "language_info": {
   "codemirror_mode": {
    "name": "ipython",
    "version": 3
   },
   "file_extension": ".py",
   "mimetype": "text/x-python",
   "name": "python",
   "nbconvert_exporter": "python",
   "pygments_lexer": "ipython3",
   "version": "3.8.10"
  }
 },
 "nbformat": 4,
 "nbformat_minor": 5
}
