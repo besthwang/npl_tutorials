{
 "cells": [
  {
   "cell_type": "code",
   "execution_count": 1,
   "id": "0f579fa1-1f41-470a-917d-17838b6bf21a",
   "metadata": {},
   "outputs": [],
   "source": [
    "from konlpy.tag import Okt"
   ]
  },
  {
   "cell_type": "code",
   "execution_count": 2,
   "id": "3cf08ec3-07e3-4d85-ab19-9f7d6f9ae458",
   "metadata": {},
   "outputs": [],
   "source": [
    "okt = Okt()"
   ]
  },
  {
   "cell_type": "markdown",
   "id": "c57c2b2d-fb6d-482f-991e-98f5986a164a",
   "metadata": {},
   "source": [
    "```python\n",
    "\n",
    "print(okt.morphs(\"도커에서 한국어 형태소 분석이 될까요?\"))\n",
    "```"
   ]
  },
  {
   "cell_type": "code",
   "execution_count": 3,
   "id": "958ae162-6dcf-4b15-98fb-106ff425666b",
   "metadata": {},
   "outputs": [
    {
     "name": "stderr",
     "output_type": "stream",
     "text": [
      "[nltk_data] Downloading package punkt to /home/developer/nltk_data...\n",
      "[nltk_data]   Package punkt is already up-to-date!\n",
      "[nltk_data] Downloading package punkt_tab to\n",
      "[nltk_data]     /home/developer/nltk_data...\n",
      "[nltk_data]   Package punkt_tab is already up-to-date!\n",
      "[nltk_data] Downloading package averaged_perceptron_tagger to\n",
      "[nltk_data]     /home/developer/nltk_data...\n",
      "[nltk_data]   Package averaged_perceptron_tagger is already up-to-\n",
      "[nltk_data]       date!\n",
      "[nltk_data] Downloading package averaged_perceptron_tagger_eng to\n",
      "[nltk_data]     /home/developer/nltk_data...\n",
      "[nltk_data]   Package averaged_perceptron_tagger_eng is already up-to-\n",
      "[nltk_data]       date!\n"
     ]
    },
    {
     "data": {
      "text/plain": [
       "True"
      ]
     },
     "execution_count": 3,
     "metadata": {},
     "output_type": "execute_result"
    }
   ],
   "source": [
    "import nltk\n",
    "\n",
    "nltk.download(\"punkt\")\n",
    "nltk.download('punkt_tab')\n",
    "nltk.download(\"averaged_perceptron_tagger\")\n",
    "nltk.download('averaged_perceptron_tagger_eng')"
   ]
  },
  {
   "cell_type": "code",
   "execution_count": 4,
   "id": "539b8c8d-27ae-4297-adc7-59d199794a38",
   "metadata": {},
   "outputs": [],
   "source": [
    "from nltk import tokenize"
   ]
  },
  {
   "cell_type": "markdown",
   "id": "b2038036-3728-45f9-9b14-435c2052cb77",
   "metadata": {},
   "source": [
    "영문 토큰화"
   ]
  },
  {
   "cell_type": "code",
   "execution_count": 5,
   "id": "d510a023-2189-4b43-a65a-0e35a5a20f19",
   "metadata": {},
   "outputs": [
    {
     "name": "stdout",
     "output_type": "stream",
     "text": [
      "['Those', 'who', 'can', 'imagine', 'anything', ',', 'can', 'create', 'the', 'impossible', '.']\n",
      "['Those who can imagine anything, can create the impossible.']\n"
     ]
    }
   ],
   "source": [
    "\n",
    "sentence = \"Those who can imagine anything, can create the impossible.\"\n",
    "\n",
    "word_tokens = tokenize.word_tokenize(sentence)\n",
    "sent_tokens = tokenize.sent_tokenize(sentence)\n",
    "print(word_tokens)\n",
    "print(sent_tokens)"
   ]
  },
  {
   "cell_type": "markdown",
   "id": "51ef1513-4daf-49f1-9449-a1bbbbe57f89",
   "metadata": {},
   "source": [
    "영문 품사 태깅"
   ]
  },
  {
   "cell_type": "code",
   "execution_count": 6,
   "id": "d691e06c-7510-495f-a3e3-9711e37fc165",
   "metadata": {},
   "outputs": [
    {
     "name": "stdout",
     "output_type": "stream",
     "text": [
      "[('Those', 'DT'), ('who', 'WP'), ('can', 'MD'), ('imagine', 'VB'), ('anything', 'NN'), (',', ','), ('can', 'MD'), ('create', 'VB'), ('the', 'DT'), ('impossible', 'JJ'), ('.', '.')]\n"
     ]
    }
   ],
   "source": [
    "from nltk import tag\n",
    "from nltk import tokenize\n",
    "\n",
    "\n",
    "sentence = \"Those who can imagine anything, can create the impossible.\"\n",
    "\n",
    "word_tokens = tokenize.word_tokenize(sentence)\n",
    "pos = tag.pos_tag(word_tokens)\n",
    "\n",
    "print(pos)"
   ]
  },
  {
   "cell_type": "code",
   "execution_count": 7,
   "id": "d446c065-f7ff-48ba-a13d-885e0cf1381e",
   "metadata": {},
   "outputs": [
    {
     "name": "stdout",
     "output_type": "stream",
     "text": [
      "[PRON  - DT ] : Those\n",
      "[PRON  - WP ] : who\n",
      "[AUX   - MD ] : can\n",
      "[VERB  - VB ] : imagine\n",
      "[PRON  - NN ] : anything\n",
      "[PUNCT - ,  ] : ,\n",
      "[AUX   - MD ] : can\n",
      "[VERB  - VB ] : create\n",
      "[DET   - DT ] : the\n",
      "[ADJ   - JJ ] : impossible\n",
      "[PUNCT - .  ] : .\n"
     ]
    }
   ],
   "source": [
    "import spacy\n",
    "\n",
    "nlp = spacy.load(\"en_core_web_sm\")\n",
    "sentence = \"Those who can imagine anything, can create the impossible.\"\n",
    "doc = nlp(sentence)\n",
    "\n",
    "for token in doc:\n",
    "    print(f\"[{token.pos_:5} - {token.tag_:3}] : {token.text}\")"
   ]
  },
  {
   "cell_type": "code",
   "execution_count": 8,
   "id": "4945eead",
   "metadata": {},
   "outputs": [],
   "source": [
    "parallel_corpus = [\n",
    "    {\"en\": \"Hello.\", \"ko\": \"안녕하세요.\"},\n",
    "    {\"en\": \"How are you?\", \"ko\": \"잘 지내세요?\"},\n",
    "    {\"en\": \"I am a student.\", \"ko\": \"저는 학생입니다.\"},\n",
    "    {\"en\": \"What is your name?\", \"ko\": \"당신의 이름은 무엇인가요?\"},\n",
    "    {\"en\": \"My name is John.\", \"ko\": \"제 이름은 존입니다.\"},\n",
    "    {\"en\": \"Nice to meet you.\", \"ko\": \"만나서 반갑습니다.\"},\n",
    "    {\"en\": \"Good morning!\", \"ko\": \"좋은 아침이에요!\"},\n",
    "    {\"en\": \"Good night.\", \"ko\": \"안녕히 주무세요.\"},\n",
    "    {\"en\": \"Where are you going?\", \"ko\": \"어디 가세요?\"},\n",
    "    {\"en\": \"I’m going home.\", \"ko\": \"집에 가는 중이에요.\"},\n",
    "    {\"en\": \"See you later.\", \"ko\": \"나중에 봐요.\"},\n",
    "    {\"en\": \"Thank you very much.\", \"ko\": \"정말 감사합니다.\"},\n",
    "    {\"en\": \"You're welcome.\", \"ko\": \"천만에요.\"},\n",
    "    {\"en\": \"Excuse me.\", \"ko\": \"실례합니다.\"},\n",
    "    {\"en\": \"I’m sorry.\", \"ko\": \"죄송합니다.\"},\n",
    "    {\"en\": \"No problem.\", \"ko\": \"괜찮아요.\"},\n",
    "    {\"en\": \"Do you speak English?\", \"ko\": \"영어 할 줄 아세요?\"},\n",
    "    {\"en\": \"I speak a little Korean.\", \"ko\": \"한국어 조금 할 줄 알아요.\"},\n",
    "    {\"en\": \"How much is this?\", \"ko\": \"이거 얼마예요?\"},\n",
    "    {\"en\": \"Where is the restroom?\", \"ko\": \"화장실 어디예요?\"},\n",
    "    {\"en\": \"Can you help me?\", \"ko\": \"도와주실 수 있나요?\"},\n",
    "    {\"en\": \"I don’t understand.\", \"ko\": \"이해하지 못했어요.\"},\n",
    "    {\"en\": \"Please speak slowly.\", \"ko\": \"천천히 말씀해 주세요.\"},\n",
    "    {\"en\": \"I’m hungry.\", \"ko\": \"배고파요.\"},\n",
    "    {\"en\": \"I’m tired.\", \"ko\": \"피곤해요.\"},\n",
    "    {\"en\": \"What time is it?\", \"ko\": \"지금 몇 시예요?\"},\n",
    "    {\"en\": \"Today is Monday.\", \"ko\": \"오늘은 월요일이에요.\"},\n",
    "    {\"en\": \"It’s raining.\", \"ko\": \"비가 오고 있어요.\"},\n",
    "    {\"en\": \"I like music.\", \"ko\": \"저는 음악을 좋아해요.\"},\n",
    "    {\"en\": \"Let’s go together.\", \"ko\": \"같이 가요.\"},\n",
    "    {\"en\": \"Have a nice day!\", \"ko\": \"좋은 하루 되세요!\"},\n",
    "    {\"en\": \"Goodbye!\", \"ko\": \"안녕히 가세요!\"}\n",
    "]"
   ]
  },
  {
   "cell_type": "code",
   "execution_count": 14,
   "id": "ae797543",
   "metadata": {},
   "outputs": [],
   "source": [
    "en_tokens = set()\n",
    "ko_tokens = set()\n",
    "\n",
    "for line in parallel_corpus:\n",
    "    ko_tokens.update(okt.morphs(line['ko']))\n",
    "    #print(okt.morphs(line['ko']))\n",
    "    #doc = nlp(sentence)\n",
    "    en_list = [ token.text for token in nlp(line['en'])]\n",
    "    #doc = nlp(line['en'])\n",
    "    #print(en_list)\n",
    "    en_tokens.update(en_list)"
   ]
  },
  {
   "cell_type": "code",
   "execution_count": 16,
   "id": "804c16de-264e-42eb-b027-f89d1f2e818c",
   "metadata": {},
   "outputs": [
    {
     "data": {
      "text/plain": [
       "{'!',\n",
       " \"'re\",\n",
       " '.',\n",
       " '?',\n",
       " 'Can',\n",
       " 'Do',\n",
       " 'English',\n",
       " 'Excuse',\n",
       " 'Good',\n",
       " 'Goodbye',\n",
       " 'Have',\n",
       " 'Hello',\n",
       " 'How',\n",
       " 'I',\n",
       " 'It',\n",
       " 'John',\n",
       " 'Korean',\n",
       " 'Let',\n",
       " 'Monday',\n",
       " 'My',\n",
       " 'Nice',\n",
       " 'No',\n",
       " 'Please',\n",
       " 'See',\n",
       " 'Thank',\n",
       " 'Today',\n",
       " 'What',\n",
       " 'Where',\n",
       " 'You',\n",
       " 'a',\n",
       " 'am',\n",
       " 'are',\n",
       " 'day',\n",
       " 'do',\n",
       " 'go',\n",
       " 'going',\n",
       " 'help',\n",
       " 'home',\n",
       " 'hungry',\n",
       " 'is',\n",
       " 'it',\n",
       " 'later',\n",
       " 'like',\n",
       " 'little',\n",
       " 'me',\n",
       " 'meet',\n",
       " 'morning',\n",
       " 'much',\n",
       " 'music',\n",
       " 'name',\n",
       " 'nice',\n",
       " 'night',\n",
       " 'n’t',\n",
       " 'problem',\n",
       " 'raining',\n",
       " 'restroom',\n",
       " 'slowly',\n",
       " 'sorry',\n",
       " 'speak',\n",
       " 'student',\n",
       " 'the',\n",
       " 'this',\n",
       " 'time',\n",
       " 'tired',\n",
       " 'to',\n",
       " 'together',\n",
       " 'understand',\n",
       " 'very',\n",
       " 'welcome',\n",
       " 'you',\n",
       " 'your',\n",
       " '’m',\n",
       " '’s'}"
      ]
     },
     "execution_count": 16,
     "metadata": {},
     "output_type": "execute_result"
    }
   ],
   "source": [
    "en_tokens"
   ]
  },
  {
   "cell_type": "code",
   "execution_count": 15,
   "id": "9ad21346",
   "metadata": {},
   "outputs": [
    {
     "data": {
      "text/plain": [
       "{'!',\n",
       " '.',\n",
       " '?',\n",
       " '가',\n",
       " '가는',\n",
       " '가세',\n",
       " '가요',\n",
       " '감사합니다',\n",
       " '같이',\n",
       " '거',\n",
       " '괜찮아요',\n",
       " '나중',\n",
       " '는',\n",
       " '당신',\n",
       " '도와주실',\n",
       " '되세요',\n",
       " '만나서',\n",
       " '말씀',\n",
       " '몇',\n",
       " '못',\n",
       " '무엇',\n",
       " '반갑습니다',\n",
       " '배고파요',\n",
       " '봐요',\n",
       " '비',\n",
       " '세',\n",
       " '수',\n",
       " '시',\n",
       " '실례',\n",
       " '아세요',\n",
       " '아침',\n",
       " '안녕하세요',\n",
       " '안녕히',\n",
       " '알아요',\n",
       " '어디',\n",
       " '얼마',\n",
       " '에',\n",
       " '에요',\n",
       " '영어',\n",
       " '예요',\n",
       " '오고',\n",
       " '오늘',\n",
       " '요',\n",
       " '월요일',\n",
       " '은',\n",
       " '을',\n",
       " '음악',\n",
       " '의',\n",
       " '이',\n",
       " '이름',\n",
       " '이에요',\n",
       " '이해',\n",
       " '인가요',\n",
       " '입니다',\n",
       " '있나요',\n",
       " '있어요',\n",
       " '잘',\n",
       " '저',\n",
       " '정말',\n",
       " '제',\n",
       " '조금',\n",
       " '존',\n",
       " '좋아해요',\n",
       " '좋은',\n",
       " '죄송합니다',\n",
       " '주무',\n",
       " '주세요',\n",
       " '줄',\n",
       " '중이',\n",
       " '지금',\n",
       " '지내세요',\n",
       " '집',\n",
       " '천만',\n",
       " '천천히',\n",
       " '피곤해요',\n",
       " '하루',\n",
       " '하지',\n",
       " '학생',\n",
       " '한국어',\n",
       " '할',\n",
       " '합니다',\n",
       " '해',\n",
       " '했어요',\n",
       " '화장실'}"
      ]
     },
     "execution_count": 15,
     "metadata": {},
     "output_type": "execute_result"
    }
   ],
   "source": [
    " ko_tokens"
   ]
  }
 ],
 "metadata": {
  "kernelspec": {
   "display_name": "Python 3 (ipykernel)",
   "language": "python",
   "name": "python3"
  },
  "language_info": {
   "codemirror_mode": {
    "name": "ipython",
    "version": 3
   },
   "file_extension": ".py",
   "mimetype": "text/x-python",
   "name": "python",
   "nbconvert_exporter": "python",
   "pygments_lexer": "ipython3",
   "version": "3.8.10"
  }
 },
 "nbformat": 4,
 "nbformat_minor": 5
}
