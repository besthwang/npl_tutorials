{
 "cells": [
  {
   "cell_type": "markdown",
   "id": "6572748f-0e8e-4b37-8003-f045f22ec53b",
   "metadata": {},
   "source": [
    "## 디코더의 두번째 서브층: 인코더-디코더 어텐션"
   ]
  },
  {
   "cell_type": "markdown",
   "id": "2f1d9c6e-52df-4d9c-8628-b2283fb7514e",
   "metadata": {},
   "source": [
    "**참고문헌**  \n",
    "\\[1\\] [16-01 트랜스포머(Transformer)](https://wikidocs.net/31379)  \n",
    "\\[2\\] [The Annotated Transformer](https://nlp.seas.harvard.edu/2018/04/03/attention.html#prelims)  "
   ]
  },
  {
   "cell_type": "markdown",
   "id": "09980d8a-b238-41ae-bdfc-06e910cb8c72",
   "metadata": {},
   "source": [
    "![fig1](../images/decoder._look_a_head.png)"
   ]
  },
  {
   "cell_type": "markdown",
   "id": "6659be4d-b6d9-4ef4-9969-fa5a8ccbe7d3",
   "metadata": {},
   "source": [
    "디코더의 두번째 서브층에 대해서 이해해봅시다. 디코더의 두번째 서브층은 멀티 헤드 어텐션을 수행한다는  \n",
    "점에서는 이전의 어텐션들(인코더와 디코더의 첫번째 서브층)과는 공통점이 있으나 이번에는 셀프 어텐션이 아님.  \n",
    "<br>\n",
    "셀프 어텐션은 Query, Key, Value가 같은 경우를 말하는데, 인코더-디코더 어텐션은 Query가 디코더인  \n",
    "행렬인 반면, Key와 Value는 인코더 행렬이기 때문입니다. 다시 한 번 각 서브층에서의 Q,K,V의 관계를 정리해봄.  \n",
    "\n",
    "|    layer             |                       |         \n",
    "|----------------------|------------------------|\n",
    "|인터더의 첫번째 서브층  | Query = **Key** = Value |\n",
    "|디코더의 첫번째 서브층  | Query = **Key** = Value |\n",
    "|디코더의 두번째 서브층  | Query : 디코더 행렬 /**Key** = Value : 인코더 행렬 |\n",
    "\n",
    "디코더의 두번째 서브층을 확대해 보면, 다음과 같이 인코더로부터 두 개의 화살표가 그려져 있음.  \n",
    "\n",
    "![fig_3](../images/decoder_2nd_layer.png)\n",
    "\n",
    "두 개의 화살표는 각각  key와 value를 의미하며 이는 인코더의 마지막 층에서 온 행렬로부터 얻음.  \n",
    "반면 Query는 더코더의 첫번째 서브층의 결과 행렬로부터 얻는다는 점이 다릅니다.  \n",
    "Query가 디코더 행렬 Key가 인코더 행렬일 때, 어텐셜 스코어 행렬을 추구하는 과정은 다음과 같습니다.\n",
    "\n",
    "![fig_4](../images/decoder_2nd_attention_score_matrix_final.png)"
   ]
  },
  {
   "cell_type": "code",
   "execution_count": null,
   "id": "0ce1e641-11a8-4388-addf-0db63758bb3e",
   "metadata": {},
   "outputs": [],
   "source": []
  }
 ],
 "metadata": {
  "kernelspec": {
   "display_name": "Python 3 (ipykernel)",
   "language": "python",
   "name": "python3"
  },
  "language_info": {
   "codemirror_mode": {
    "name": "ipython",
    "version": 3
   },
   "file_extension": ".py",
   "mimetype": "text/x-python",
   "name": "python",
   "nbconvert_exporter": "python",
   "pygments_lexer": "ipython3",
   "version": "3.8.10"
  }
 },
 "nbformat": 4,
 "nbformat_minor": 5
}
