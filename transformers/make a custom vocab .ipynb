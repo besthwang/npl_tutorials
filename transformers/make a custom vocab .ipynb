{
 "cells": [
  {
   "cell_type": "markdown",
   "id": "0f82139a",
   "metadata": {},
   "source": [
    "## 1. 말뭉치(코퍼스) 준비"
   ]
  },
  {
   "cell_type": "code",
   "execution_count": 1,
   "id": "1484139e",
   "metadata": {},
   "outputs": [],
   "source": [
    "corpus = [\n",
    "    \"나는 밥을 먹었다.\",\n",
    "    \"너는 빵을 많이 먹었다.\",\n",
    "    \"우리는 함께 공부한다.\"\n",
    "]"
   ]
  },
  {
   "cell_type": "markdown",
   "id": "cc137211",
   "metadata": {},
   "source": [
    "## 2. 토큰화(단어 or 형태소 or 자소 단위)\n",
    "### 간단한 뛰어쓰기 기준(world-level):"
   ]
  },
  {
   "cell_type": "code",
   "execution_count": 2,
   "id": "09913d6c",
   "metadata": {},
   "outputs": [],
   "source": [
    "tokens = set()\n",
    "for line in corpus:\n",
    "    tokens.update(line.strip().split())"
   ]
  },
  {
   "cell_type": "code",
   "execution_count": 3,
   "id": "8ee29846",
   "metadata": {},
   "outputs": [
    {
     "data": {
      "text/plain": [
       "{'공부한다.', '나는', '너는', '많이', '먹었다.', '밥을', '빵을', '우리는', '함께'}"
      ]
     },
     "execution_count": 3,
     "metadata": {},
     "output_type": "execute_result"
    }
   ],
   "source": [
    "tokens"
   ]
  },
  {
   "cell_type": "markdown",
   "id": "322d8944",
   "metadata": {},
   "source": [
    "## 3. 특수 토큰 추가 + 정렬된 vocab 만들기"
   ]
  },
  {
   "cell_type": "code",
   "execution_count": 4,
   "id": "33b9f2f9",
   "metadata": {},
   "outputs": [],
   "source": [
    "special_tokens = [\"<pad>\", \"<unk>\", \"<sos>\", \"<eos>\"]\n",
    "\n",
    "vocab = special_tokens + sorted(list(tokens))\n",
    "token2idx = {token: idx for idx, token in enumerate(vocab)}\n",
    "idx2token = {idx: token for token, idx in token2idx.items()}"
   ]
  },
  {
   "cell_type": "code",
   "execution_count": 5,
   "id": "616c6d5a",
   "metadata": {},
   "outputs": [
    {
     "data": {
      "text/plain": [
       "{0: '<pad>',\n",
       " 1: '<unk>',\n",
       " 2: '<sos>',\n",
       " 3: '<eos>',\n",
       " 4: '공부한다.',\n",
       " 5: '나는',\n",
       " 6: '너는',\n",
       " 7: '많이',\n",
       " 8: '먹었다.',\n",
       " 9: '밥을',\n",
       " 10: '빵을',\n",
       " 11: '우리는',\n",
       " 12: '함께'}"
      ]
     },
     "execution_count": 5,
     "metadata": {},
     "output_type": "execute_result"
    }
   ],
   "source": [
    "idx2token"
   ]
  },
  {
   "cell_type": "code",
   "execution_count": 6,
   "id": "0e083085",
   "metadata": {
    "scrolled": true
   },
   "outputs": [
    {
     "data": {
      "text/plain": [
       "{'<pad>': 0,\n",
       " '<unk>': 1,\n",
       " '<sos>': 2,\n",
       " '<eos>': 3,\n",
       " '공부한다.': 4,\n",
       " '나는': 5,\n",
       " '너는': 6,\n",
       " '많이': 7,\n",
       " '먹었다.': 8,\n",
       " '밥을': 9,\n",
       " '빵을': 10,\n",
       " '우리는': 11,\n",
       " '함께': 12}"
      ]
     },
     "execution_count": 6,
     "metadata": {},
     "output_type": "execute_result"
    }
   ],
   "source": [
    "token2idx"
   ]
  },
  {
   "cell_type": "markdown",
   "id": "0763c2c1",
   "metadata": {},
   "source": [
    "### 4. 문장을 토큰 ID 시퀀스로 변환"
   ]
  },
  {
   "cell_type": "code",
   "execution_count": 13,
   "id": "01c5b22f",
   "metadata": {},
   "outputs": [],
   "source": [
    "#src : input of encoder\n",
    "#tgt : input of decoder\n",
    "#tgt_y : outout of decoder\n",
    "def encode(sentence, token2idx):\n",
    "    tokens = sentence.strip().split()\n",
    "    tokens = tokens \n",
    "    ids = [token2idx.get(tok, token2idx[\"<unk>\"]) for tok in tokens]\n",
    "    out = None\n",
    "    out = [token2idx[\"<sos>\"]] + ids + [token2idx[\"<eos>\"]]   \n",
    "    return out\n",
    "encoded = encode(\"나는 밥을 먹었다.\", token2idx)"
   ]
  },
  {
   "cell_type": "code",
   "execution_count": 14,
   "id": "504d1020",
   "metadata": {},
   "outputs": [
    {
     "data": {
      "text/plain": [
       "[2, 5, 9, 8, 3]"
      ]
     },
     "execution_count": 14,
     "metadata": {},
     "output_type": "execute_result"
    }
   ],
   "source": [
    "encoded "
   ]
  },
  {
   "cell_type": "markdown",
   "id": "1a72be46",
   "metadata": {},
   "source": [
    "\\<sos\\>와 \\<eos\\>는 문장 경계를 Transformer가 학습할 수 있도록 도와 줌."
   ]
  },
  {
   "cell_type": "markdown",
   "id": "cca200b2",
   "metadata": {},
   "source": [
    "5. Padding + Masking"
   ]
  },
  {
   "cell_type": "markdown",
   "id": "f2198077",
   "metadata": {},
   "source": [
    "Transformer는 동일한 길이의 입력이 필요하므로 패딩이 필요합니다."
   ]
  },
  {
   "cell_type": "code",
   "execution_count": 15,
   "id": "54c41e56",
   "metadata": {},
   "outputs": [],
   "source": [
    "from torch.nn.utils.rnn import pad_sequence\n",
    "import torch\n",
    "\n",
    "batch_sentences = corpus\n",
    "encoded_batch = [torch.tensor(encode(s, token2idx)) for s in batch_sentences]\n",
    "\n",
    "padded = pad_sequence(encoded_batch, batch_first=True, padding_value=token2idx[\"<pad>\"])"
   ]
  },
  {
   "cell_type": "code",
   "execution_count": 16,
   "id": "92321714",
   "metadata": {},
   "outputs": [
    {
     "data": {
      "text/plain": [
       "tensor([[ 2,  5,  9,  8,  3,  0],\n",
       "        [ 2,  6, 10,  7,  8,  3],\n",
       "        [ 2, 11, 12,  4,  3,  0]])"
      ]
     },
     "execution_count": 16,
     "metadata": {},
     "output_type": "execute_result"
    }
   ],
   "source": [
    "padded"
   ]
  }
 ],
 "metadata": {
  "kernelspec": {
   "display_name": "Python 3 (ipykernel)",
   "language": "python",
   "name": "python3"
  },
  "language_info": {
   "codemirror_mode": {
    "name": "ipython",
    "version": 3
   },
   "file_extension": ".py",
   "mimetype": "text/x-python",
   "name": "python",
   "nbconvert_exporter": "python",
   "pygments_lexer": "ipython3",
   "version": "3.8.10"
  }
 },
 "nbformat": 4,
 "nbformat_minor": 5
}
