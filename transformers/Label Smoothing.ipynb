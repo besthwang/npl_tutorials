{
 "cells": [
  {
   "cell_type": "code",
   "execution_count": 1,
   "id": "65ce93be-85b4-4406-b6a7-ffde59eb603c",
   "metadata": {},
   "outputs": [],
   "source": [
    "import numpy as np\n",
    "import torch\n",
    "import torch.nn as nn\n",
    "import torch.nn.functional as F\n",
    "import math, copy, time\n",
    "from torch.autograd import Variable\n",
    "import matplotlib.pyplot as plt\n",
    "import pandas as pd\n",
    "import seaborn\n",
    "seaborn.set_context(context=\"talk\")\n",
    "%matplotlib inline"
   ]
  },
  {
   "cell_type": "markdown",
   "id": "f6143779-54ea-4f53-86f4-993aa41ccc41",
   "metadata": {},
   "source": [
    "## **Regularization**\n"
   ]
  },
  {
   "cell_type": "code",
   "execution_count": 2,
   "id": "f7f12e9b-6e9e-4866-9b58-45aeb8f063bb",
   "metadata": {},
   "outputs": [],
   "source": [
    "class LabelSmoothing(nn.Module):\n",
    "    \"Implement label smoothing.\"\n",
    "    def __init__(self, size, padding_idx, smoothing=0.0):\n",
    "        super(LabelSmoothing, self).__init__()\n",
    "        self.criterion = nn.KLDivLoss(size_average=False)\n",
    "        self.padding_idx = padding_idx\n",
    "        self.confidence = 1.0 - smoothing\n",
    "        self.smoothing = smoothing\n",
    "        self.size = size\n",
    "        self.true_dist = None\n",
    "        \n",
    "    def forward(self, x, target):\n",
    "        assert x.size(1) == self.size\n",
    "        true_dist = x.data.clone()\n",
    "        true_dist.fill_(self.smoothing / (self.size - 2))\n",
    "        true_dist.scatter_(1, target.data.unsqueeze(1), self.confidence)\n",
    "        true_dist[:, self.padding_idx] = 0\n",
    "        #print(\"target shape : \", target.shape)\n",
    "        mask = torch.nonzero(target == self.padding_idx)\n",
    "        #print(\"mask: \", mask, mask.dim())\n",
    "        if mask.shape[0] > 0:\n",
    "            #print(\"padding\")\n",
    "            true_dist.index_fill_(0, mask.squeeze(), 0.0)\n",
    "        self.true_dist = true_dist\n",
    "        #print(true_dist)\n",
    "        return self.criterion(x,true_dist)"
   ]
  },
  {
   "cell_type": "markdown",
   "id": "d6419701-32de-4448-8913-cd6260dfed22",
   "metadata": {},
   "source": [
    "\n",
    "### **Label Smoothing**\n",
    "학습 중에 우리는 라벨 스무딩(label smoothing) 계수 ϵ<sub>ls</sub> = 0.1을 적용했다 [출처 필요](https://arxiv.org/abs/1512.00567).  \n",
    "이는 모델이 덜 확신을 가지도록 학습되기 때문에 퍼플렉서티(perplexity)에는 부정적인 영향을 주지만,  \n",
    "정확도와 BLEU 점수는 향상시킨다.  \n",
    "  \n",
    "라벨 스무딩은 **KL 발산 손실(KL divergence loss)** 을 이용해 구현하였다. 원-핫(one-hot) 형태의 타깃 분포 대신,  \n",
    "정답 단어에 일정한 확신(confidence)을 부여하고 나머지 스무딩 질량(mass)은 전체 어휘에 고르게 분산시킨   \n",
    "확률 분포를 생성한다.\n",
    "\n",
    "` 1. Label Smoothing이란 무엇인가요?`  \n",
    "라벨 스무딩(Label Smoothing)은 딥러닝 모델을 학습할 때 과도하게 확신(confident)하는 경향을 줄이기 위한  \n",
    "regularization 기법입니다.  \n",
    "\n",
    "- 일반적으로 분류 문제에서는 정답 클래스에만 1, 나머지에는 0인 one-hot 벡터를 정답(label)으로 사용합니다.\n",
    "- 그러나 이것은 모델이 학습 데이터에 대해 100% 확신하도록 강요하게 되어, overfitting이나  \n",
    "generalization 성능 저하의 원인이 될 수 있습니다.  \n",
    "**라벨 스무딩**은 이 확신을 완화시켜,\n",
    "   - 정답 클래스에 1 - ϵ,\n",
    "   - 나머지 클래스에 ϵ / (V - 1)의 확률을 주는 방식입니다.\n",
    "\n",
    "여기서 ϵ은 smoothing factor (예: 0.1), V는 어휘 수(vocabulary size)입니다.  \n",
    "\n",
    "예시:  \n",
    "원래 라벨: [0, 0, 1, 0]  \n",
    "스무딩 후: [0.033, 0.033, 0.9, 0.033] (ϵ = 0.1, V = 4)  \n",
    "\n",
    "`2. KL Divergence Loss를 활용한 구현`  \n",
    "KL 발산(Kullback-Leibler Divergence)은 두 확률 분포 간의 차이를 측정하는 손실 함수입니다.\n",
    "라벨 스무딩을 적용할 때는 원-핫 분포 대신 스무딩된 확률 분포를 타깃으로 사용하여, 모델 출력 분포와의 차이를 KL Divergence로 계산합니다.  \n",
    "- 이 방식은 다음과 같은 장점이 있습니다:  \n",
    "- 모델이 다른 클래스도 어느 정도 가능성이 있다고 생각하도록 유도\n",
    "    - 학습이 더 안정적이고, **범용성(generalization)**이 좋아짐\n",
    "\n",
    "`3. Perplexity가 낮아지는 이유`  \n",
    "Perplexity(당혹도)는 주로 언어 모델의 출력 확률 분포가 얼마나 정답에 집중되어 있는지를 측정합니다.  \n",
    "라벨 스무딩을 적용하면 모델은 정답 하나에만 집중하지 않고, 다른 클래스에도 일정 확률을 분산합니다.  \n",
    "따라서 Perplexity는 상대적으로 높아지지만, 이는 모델이 덜 확신하는 방향으로 학습되었기 때문입니다.  \n",
    "즉, \"불확실한 분포\" → Perplexity는 나빠짐  \n",
    "\n",
    "`4. 그럼에도 Accuracy나 BLEU 점수가 좋아지는 이유`  \n",
    "- 실제로 모델이 정답이 아닌 단어에도 일정한 가능성을 부여하기 때문에,\n",
    "- 일반화 성능이 향상되고,\n",
    "- BLEU (번역 품질 측정 지표) 같은 평가에서는 더 좋은 결과를 낼 수 있습니다.\n",
    "- 특히 희귀 단어 처리나 문맥에서 유연한 판단이 요구되는 경우에 효과적입니다.\n",
    "\n",
    "✅ 요약  \n",
    "\n",
    "|항목 |\t설명|\n",
    "|-----|-----|\n",
    "|목적  |\t모델의 과도한 확신을 줄여서 과적합 방지 및 일반화 성능 향상\n",
    "|적용 방식|\t정답 분포를 완전히 one-hot으로 하지 않고 일부 확률을 나머지 클래스에 분산\n",
    "|장점|\tBLEU/Accuracy 개선, 모델의 불확실성 표현, 일반화 능력 향상\n",
    "|단점|\tPerplexity(퍼플렉서티)는 낮아짐 (모델이 확신하지 않기 때문)"
   ]
  },
  {
   "cell_type": "markdown",
   "id": "8ac76bbd-9a34-4c4a-9203-20cdc5881d3a",
   "metadata": {},
   "source": [
    "`true_dist.scatter_(1, target.data.unsqueeze(1), self.confidence)` 코드 분석\n",
    "----------------------------------------------------------------------------\n",
    "\n",
    "**scatter_** 는 인플레이스 연산으로, 기존 텐서에 값을 '분산(scatter)\"시켜 넣는 함수임.  \n",
    "구문은 다음과 같음\n",
    "```\n",
    "tensor.scatter_(dim, index, src)\n",
    "```\n",
    "\n",
    "- `dim`: 값을 흩뿌릴 차원(예: 1-> 열 방향)\n",
    "- `index` : 위치를 지정하는 텐서\n",
    "- `src` : 흩뿌릴 값 (스칼라 또는 텐서)\n",
    "-  `_`가 붙었으므로 원래의 텐서를 수정합니다. (in-place)"
   ]
  },
  {
   "cell_type": "markdown",
   "id": "f0f5bec1-5fb5-4947-9547-528a3b1380df",
   "metadata": {},
   "source": [
    "**test for LabelSmoothing**  \n",
    "LabelSmoothing 코드를 라인 단위로 분석해 봄 "
   ]
  },
  {
   "cell_type": "code",
   "execution_count": 3,
   "id": "1f89c489-cc89-4e23-9955-5246c4c0d1f5",
   "metadata": {},
   "outputs": [
    {
     "name": "stdout",
     "output_type": "stream",
     "text": [
      "tensor([[0.0000, 0.1333, 0.6000, 0.1333, 0.1333],\n",
      "        [0.0000, 0.6000, 0.1333, 0.1333, 0.1333],\n",
      "        [0.0000, 0.1333, 0.1333, 0.1333, 0.1333]])\n",
      "tensor([[2]])\n",
      "2\n",
      "tensor([[0.0000, 0.1333, 0.6000, 0.1333, 0.1333],\n",
      "        [0.0000, 0.6000, 0.1333, 0.1333, 0.1333],\n",
      "        [0.0000, 0.0000, 0.0000, 0.0000, 0.0000]])\n"
     ]
    }
   ],
   "source": [
    "size, padding_idx, smoothing=5, 0, 0.4\n",
    "x = torch.tensor([[0, 0.2, 0.7 , 0.1, 0],\n",
    "                  [0, 0.2, 0.7, 0.1, 0], \n",
    "                  [0, 0.2, 0.7, 0.1, 0]], dtype=torch.float)\n",
    "y = torch.tensor([2,1,0])\n",
    "\n",
    "true_dist = x.data.clone()\n",
    "true_dist.fill_(smoothing / (size - 2))\n",
    "true_dist.scatter_(1, y.data.unsqueeze(1), 1-smoothing)\n",
    "true_dist[:, padding_idx] = 0\n",
    "print(true_dist)\n",
    "\n",
    "mask = torch.nonzero(y.data == padding_idx)\n",
    "print(mask)\n",
    "\n",
    "if mask.dim() > 0:\n",
    "    print(mask.dim())\n",
    "    true_dist.index_fill_(0, mask.squeeze(), 0.0)\n",
    "    print(true_dist)"
   ]
  },
  {
   "cell_type": "code",
   "execution_count": 4,
   "id": "bc135d36-d272-4f33-8abe-14838fd1b64c",
   "metadata": {},
   "outputs": [
    {
     "name": "stdout",
     "output_type": "stream",
     "text": [
      "2\n"
     ]
    }
   ],
   "source": [
    "if mask.dim() > 0:\n",
    "    print(mask.dim())\n",
    "    true_dist.index_fill_(0, mask.squeeze(), 0.0)"
   ]
  },
  {
   "cell_type": "markdown",
   "id": "d3f16548-f96f-4e88-8dfa-1ccb6d0906d1",
   "metadata": {},
   "source": [
    "`mask = torch.nonzero(y.data == padding_idx)` : 분석  \n",
    "----------------------------------------------------\n",
    "\n",
    "이 코드는 target 텐서에서 padding_idx와 같은 값을 갖는 위치(index)를 찾아주는 코드입니다.  \n",
    "\n",
    "\n",
    "각 부분 설명\n",
    "------------\n",
    "---\n",
    "1. `target = torch.tensor([2, 1, 0])`  \n",
    "예를 들어, 이 target은 세 개의 정답 클래스를 가지고 있습니다.  \n",
    "보통 NLP 등에서 target은 토큰 인덱스 시퀀스를 의미할 수 있습니다.  \n",
    "여기서 0은 패딩 토큰(예: <pad>)이라고 가정할 수 있습니다.  \n",
    "예를 들어, padding_idx = 0 이라면 마지막 값이 패딩입니다.  \n",
    "\n",
    "2. `target.data == padding_idx`  \n",
    "target == padding_idx는 각 요소가 padding_idx와 같은지 여부를 나타내는 불리언 텐서를 만듭니다.  \n",
    "예를 들어 padding_idx = 0 이라면 결과는:  \n",
    "``` python\n",
    "target == 0 → tensor([False, False, True])\n",
    "```\n",
    ">.data는 과거에는 in-place 연산 우회를 위해 쓰였지만, 요즘은 target == padding_idx만 쓰는 게 더 안전하고 권장됩니다.  \n",
    "\n",
    "3. `torch.nonzero(...)`  \n",
    "    - `nonzero()`는 `True`인 위치(인덱스) 를 반환합니다.   \n",
    "    위 예시에서:\n",
    "    ``` python\n",
    "    mask = torch.nonzero(target == 0)\n",
    "    ```\n",
    "    \n",
    "    결과는:\n",
    "\n",
    "    ``` python\n",
    "    tensor([[2]])\n",
    "    ````\n",
    "      \n",
    "    → 즉, target[2]이 패딩이므로 그 위치 인덱스 [2]가 반환된 것입니다.\n",
    "\n",
    "4. `전체 예제`\n",
    "-------------\n",
    "   \n",
    "``` python\n",
    "import torch\n",
    "\n",
    "target = torch.tensor([2, 1, 0])\n",
    "padding_idx = 0\n",
    "\n",
    "mask = torch.nonzero(target == padding_idx)\n",
    "\n",
    "print(mask)  # tensor([[2]])\n",
    "```\n",
    "--- \n",
    "5. `실제 사용 예 (NLP)`  \n",
    "이 구조는 보통 다음과 같은 용도로 쓰입니다:  \n",
    "\n",
    "- **Loss** 계산 시 **padding** 위치 무시\n",
    "- **attention mask**나 **sequence mask** 생성\n",
    "\n",
    "예: `loss.masked_fill(mask, 0)` 또는 `loss = loss[mask == 0].mean()` 등\n",
    "\n"
   ]
  },
  {
   "cell_type": "markdown",
   "id": "085b8535-3f62-49cb-bc1d-557e704060a3",
   "metadata": {},
   "source": [
    "`true_dist.index_fill_(0, mask.squeeze(), 0.0)` : 분석\n",
    "------------------------------------------------------\n",
    "\n",
    "true_dist.index_fill_()는 PyTorch에서 특정 인덱스를 골라서 값을 \"채워 넣는\" 데 사용되는 함수임  \n",
    "\n",
    "\n",
    "1. `index_fill_ 기본 개념`:  \n",
    "``` python\n",
    "tensor.index_fill_(dim, index, value)\n",
    "````\n",
    "- `dim`: 채워 넣을 차원 (예: 0 → row, 1 → column)\n",
    "- `index`: 채워 넣을 위치 인덱스들 (LongTensor 또는 리스트)\n",
    "- `value`: 채워 넣을 값 (스칼라)\n",
    "\n",
    "> _가 붙었으므로 in-place 연산 → 기존 텐서를 직접 수정\n",
    "\n",
    "2. **전체 코드 맥락 예제**  "
   ]
  },
  {
   "cell_type": "code",
   "execution_count": 5,
   "id": "9f9211ca-30e8-475e-b755-f9c58703c2dc",
   "metadata": {},
   "outputs": [
    {
     "name": "stdout",
     "output_type": "stream",
     "text": [
      "row direction\n",
      "tensor([[0.1000, 0.2000, 0.3000],\n",
      "        [0.4000, 0.5000, 0.1000],\n",
      "        [0.0000, 0.0000, 0.0000]])\n",
      "coloum direction\n",
      "tensor([[0.1000, 0.2000, 0.0000],\n",
      "        [0.4000, 0.5000, 0.0000],\n",
      "        [0.0000, 0.0000, 0.0000]])\n"
     ]
    }
   ],
   "source": [
    "import torch\n",
    "\n",
    "true_dist = torch.tensor([\n",
    "    [0.1, 0.2, 0.3],\n",
    "    [0.4, 0.5, 0.1],\n",
    "    [0.3, 0.1, 0.2]\n",
    "], dtype=torch.float)\n",
    "\n",
    "mask = torch.tensor([[2]])  # 예를 들어 target == padding_idx인 위치\n",
    "\n",
    "print(\"row direction\")\n",
    "true_dist.index_fill_(0, mask.squeeze(), 0.0)\n",
    "\n",
    "print(true_dist)\n",
    "\n",
    "print(\"coloum direction\")\n",
    "true_dist.index_fill_(1, mask.squeeze(), 0.0)\n",
    "\n",
    "print(true_dist)"
   ]
  },
  {
   "cell_type": "markdown",
   "id": "68ba315e-8ad3-45ff-9ddf-be7ce98f704c",
   "metadata": {},
   "source": [
    "3. **실제로 언제 쓰일까?**  \n",
    "\n",
    "패딩 위치의 target에는 정답이 없으므로, 그에 해당하는 true_dist를 0으로 채워서 loss에 영향을  \n",
    "주지 않도록 무력화할 때 사용됩니다.  \n",
    "즉, label smoothing을 사용할 때 padding 위치도 soft label 분포를 갖고 있긴 하지만,   \n",
    "그걸 loss에서 무시하고 싶을 때 이렇게 0으로 밀어버립니다"
   ]
  },
  {
   "cell_type": "markdown",
   "id": "d79e80c7-1798-4fcf-9124-922b906ac1d2",
   "metadata": {},
   "source": [
    "`nn.KLDivLoss(size_average=False)` :\n",
    "------------------------------------  \n",
    "PyTorch의 `nn.KLDivLoss(size_average=False)`는 **Kullback-Leibler Divergence (KL divergence)** 를 계산하는 손실 함수입니다.  \n",
    "이 함수는 두 확률 분포 사이의 차이를 측정하는 데 사용되며, 주로 **soft target**을 사용할 때 등장합니다.  \n",
    "\n",
    "1. **기본 개념: KL Divergence란?**  \n",
    "KL Divergence는 두 확률 분포 $𝑃(target)$와 $Q(prediction)$의 차이를 측정합니다:  \n",
    "$$ D_{KL}(P|Q) = \\sum_i P(i)\\cdot \\log\\left(\\frac{P(i)}{Q(i)}\\right)$$\n",
    "\n",
    "2. **코드 설명**  \n",
    "\n",
    "``` python\n",
    "import torch.nn as nn\n",
    "\n",
    "loss_fn = nn.KLDivLoss(size_average=False)\n",
    "```\n",
    "\n",
    "- `KLDivLoss`: **KL divergence** 손실 함수\n",
    "- `size_average=False`:  \n",
    "→ 평균을 내지 않고 모든 loss 값을 합산합니다  \n",
    "→ PyTorch 0.4 이후에는 reduction='sum' 또는 'mean'을 사용하는 방식으로 변경되었어요.\n",
    "\n",
    "> 참고: size_average는 이제 deprecated 되었으며, 대신 reduction 인자를 사용하는 것이 최신 방식입니다.\n",
    "\n",
    "\n",
    "3. **최신식 표현으로 바꾸면?**\n",
    "\n",
    "``` python\n",
    "loss_fn = nn.KLDivLoss(reduction='sum')  # 또는 'batchmean', 'none', 'mean'\n",
    "```\n",
    "\n",
    "|reduction 값|\t의미|\n",
    "-------------|------|\n",
    "|'none'|\t각 요소의 loss 개별 반환|\n",
    "|'sum'|\t모든 loss 합산|\n",
    "|'mean'|\t전체 평균|\n",
    "|'batchmean'|\t(전체 loss 합) / (batch_size) ← 이게 논문에서 많이 씀|"
   ]
  },
  {
   "cell_type": "markdown",
   "id": "4cfce0c8-85f7-49e6-9bea-dd4b93654589",
   "metadata": {},
   "source": [
    "4. **예제 코드:**"
   ]
  },
  {
   "cell_type": "code",
   "execution_count": 6,
   "id": "b84d651c-19ac-4b29-8591-eec308e72ea2",
   "metadata": {},
   "outputs": [
    {
     "name": "stdout",
     "output_type": "stream",
     "text": [
      "0.17240498960018158\n"
     ]
    }
   ],
   "source": [
    "import torch\n",
    "import torch.nn as nn\n",
    "import torch.nn.functional as F\n",
    "\n",
    "# input: log probability\n",
    "input = F.log_softmax(torch.tensor([[0.2, 0.8]]), dim=1)  # shape: [1, 2]\n",
    "# target: probability distribution (must sum to 1)\n",
    "target = torch.tensor([[0.1, 0.9]])  # shape: [1, 2]\n",
    "\n",
    "loss_fn = nn.KLDivLoss(reduction='sum')\n",
    "loss = loss_fn(input, target)\n",
    "\n",
    "print(loss.item())  # KL divergence 값"
   ]
  },
  {
   "cell_type": "code",
   "execution_count": 7,
   "id": "139c72ff-1c2d-4eef-8da7-90cd3e6ba34b",
   "metadata": {},
   "outputs": [
    {
     "name": "stdout",
     "output_type": "stream",
     "text": [
      "tensor([[-1.0375, -0.4375]])\n"
     ]
    }
   ],
   "source": [
    "input = F.log_softmax(torch.tensor([[0.2, 0.8]]), dim=1)\n",
    "print(input)"
   ]
  },
  {
   "cell_type": "markdown",
   "id": "fbf31579-9456-4e10-ae60-bd6b6256fb12",
   "metadata": {},
   "source": [
    "`Variable(true_dist, requires_grad=False)`\n",
    "-------------------------------------------\n",
    "1. `Variable` 이란? (구버전 PyTorch)\n",
    "- PyTorch 0.4 이전에는 Variable이 텐서와 autograd(자동 미분)를 연결해주는 래퍼였습니다.\n",
    "- 기본적으로 Variable은 다음과 같이 사용됐습니다:\n",
    "\n",
    "``` python\n",
    "from torch.autograd import Variable\n",
    "\n",
    "x = Variable(torch.tensor([1.0]), requires_grad=True)\n",
    "```\n",
    "- 하지만 PyTorch 0.4 이후로는 Tensor 자체가 autograd를 지원하기 때문에 Variable은 deprecated 되었고,   더 이상 필요하지 않습니다.\n",
    "\n",
    "2. `requires_grad=False` 의미:  \n",
    "- 이는 해당 텐서가 역전파 과정에서 gradient를 계산하지 않도록 설정한다는 의미입니다.\n",
    "- 주로 정답 분포(true distribution), mask, 고정된 상수 값 등을 설정할 때 사용합니다.\n",
    "\n",
    "3. 용도: 정답 분포 (True Distribution)\n",
    "이 표현은 주로 KLDivLoss, NLLLoss, CrossEntropyLoss와 같은 손실 함수에 사용할 정답 분포를 만들 때 사용됩니다."
   ]
  },
  {
   "cell_type": "markdown",
   "id": "9c478b95-1413-4d10-a908-5fd15bb1ea9a",
   "metadata": {},
   "source": [
    "> <span style=\"color: red; font-weight: bold\"> Here we can see an example of how the mass is distributed to the words based on confidence.</span>"
   ]
  },
  {
   "cell_type": "code",
   "execution_count": 8,
   "id": "e712e9b9-b21f-4ae0-91d8-bf7b47c599cc",
   "metadata": {},
   "outputs": [
    {
     "name": "stdout",
     "output_type": "stream",
     "text": [
      "tensor([[0.0000, 0.1333, 0.6000, 0.1333, 0.1333],\n",
      "        [0.0000, 0.6000, 0.1333, 0.1333, 0.1333],\n",
      "        [0.0000, 0.0000, 0.0000, 0.0000, 0.0000]])\n"
     ]
    },
    {
     "name": "stderr",
     "output_type": "stream",
     "text": [
      "/usr/local/lib/python3.8/dist-packages/torch/nn/_reduction.py:42: UserWarning: size_average and reduce args will be deprecated, please use reduction='sum' instead.\n",
      "  warnings.warn(warning.format(ret))\n"
     ]
    },
    {
     "data": {
      "image/png": "[encoded data removed]",
      "text/plain": [
       "<Figure size 640x480 with 1 Axes>"
      ]
     },
     "metadata": {},
     "output_type": "display_data"
    }
   ],
   "source": [
    "# Example of label smoothing.\n",
    "crit = LabelSmoothing(5, 0, 0.4)\n",
    "predict = torch.FloatTensor([[0, 0.2, 0.7, 0.1, 0],\n",
    "                             [0, 0.2, 0.7, 0.1, 0], \n",
    "                             [0, 0.2, 0.7, 0.1, 0]])\n",
    "v = crit(Variable(predict.log()), \n",
    "         Variable(torch.LongTensor([2, 1, 0])))\n",
    "\n",
    "# Show the target distributions expected by the system.\n",
    "plt.imshow(crit.true_dist)\n",
    "print(crit.true_dist)\n",
    "None"
   ]
  },
  {
   "cell_type": "markdown",
   "id": "2e795ace-5063-4924-9d9c-f55e74b314d3",
   "metadata": {},
   "source": [
    "> <span style=\"color: red; font-weight: bold\"> Label smoothing actually starts to penalize the model if it gets very confident about a given choice.</span>  \n",
    "라벨 스무딩(label smoothing)은 모델이 특정 선택에 대해 너무 확신을 가지게 되면, 오히려 그것을 페널티(불이익)로 간주하기 시작한다."
   ]
  },
  {
   "cell_type": "code",
   "execution_count": 9,
   "id": "b82b3ec2-9b1f-4c4f-97fc-b3f8f9e4260b",
   "metadata": {},
   "outputs": [
    {
     "data": {
      "text/plain": [
       "[<matplotlib.lines.Line2D at 0x708f7e380280>]"
      ]
     },
     "execution_count": 9,
     "metadata": {},
     "output_type": "execute_result"
    },
    {
     "data": {
      "image/png": "[encoded data removed]",
      "text/plain": [
       "<Figure size 640x480 with 1 Axes>"
      ]
     },
     "metadata": {},
     "output_type": "display_data"
    }
   ],
   "source": [
    "crit = LabelSmoothing(5, 0, 0.1)\n",
    "def loss(x):\n",
    "    d = x + 4 * 1\n",
    "    predict = torch.FloatTensor([[1/d, x / d, 1 / d, 1 / d, 1 / d]])\n",
    "    #print(predict)\n",
    "    return crit(predict.log(), torch.LongTensor([1])).item()\n",
    "\n",
    "#print(loss(1))\n",
    "    \n",
    "plt.plot(np.arange(1, 100), [loss(x) for x in range(1, 100)])"
   ]
  },
  {
   "cell_type": "markdown",
   "id": "ebccdea5-5217-4aed-b7f5-b6e604daaae6",
   "metadata": {},
   "source": [
    "\n",
    "`loss(x) 함수의 오류를 수정해야 함.`\n",
    "\n",
    "``` python\n",
    " d = x + 3 * 1\n",
    "predict = torch.FloatTensor([[0, x / d, 1 / d, 1 / d, 1 / d]])\n",
    "```\n",
    "\n",
    "         ⇩\n",
    "\n",
    "``` python\n",
    " d = x + 4 * 1\n",
    "predict = torch.FloatTensor([[1/d, x / d, 1 / d, 1 / d, 1 / d]])\n",
    "```"
   ]
  }
 ],
 "metadata": {
  "kernelspec": {
   "display_name": "Python 3 (ipykernel)",
   "language": "python",
   "name": "python3"
  },
  "language_info": {
   "codemirror_mode": {
    "name": "ipython",
    "version": 3
   },
   "file_extension": ".py",
   "mimetype": "text/x-python",
   "name": "python",
   "nbconvert_exporter": "python",
   "pygments_lexer": "ipython3",
   "version": "3.8.10"
  }
 },
 "nbformat": 4,
 "nbformat_minor": 5
}
